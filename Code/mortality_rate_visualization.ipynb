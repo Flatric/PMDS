{
 "cells": [
  {
   "cell_type": "code",
   "execution_count": 15,
   "metadata": {
    "collapsed": true,
    "jupyter": {
     "outputs_hidden": true
    }
   },
   "outputs": [],
   "source": [
    "import pandas as pd\n",
    "import numpy as np\n",
    "from pygenesis.py_genesis_client import PyGenesisClient\n",
    "pd.plotting.register_matplotlib_converters()\n",
    "import matplotlib.pyplot as plt\n",
    "%matplotlib inline\n",
    "import seaborn as sns"
   ]
  },
  {
   "cell_type": "code",
   "execution_count": 16,
   "metadata": {
    "collapsed": false,
    "jupyter": {
     "outputs_hidden": false
    },
    "pycharm": {
     "name": "#%%\n"
    }
   },
   "outputs": [
    {
     "data": {
      "text/html": [
       "<div>\n",
       "<style scoped>\n",
       "    .dataframe tbody tr th:only-of-type {\n",
       "        vertical-align: middle;\n",
       "    }\n",
       "\n",
       "    .dataframe tbody tr th {\n",
       "        vertical-align: top;\n",
       "    }\n",
       "\n",
       "    .dataframe thead th {\n",
       "        text-align: right;\n",
       "    }\n",
       "</style>\n",
       "<table border=\"1\" class=\"dataframe\">\n",
       "  <thead>\n",
       "    <tr style=\"text-align: right;\">\n",
       "      <th></th>\n",
       "      <th>index.0</th>\n",
       "      <th>männlich</th>\n",
       "      <th>weiblich</th>\n",
       "      <th>Insgesamt</th>\n",
       "    </tr>\n",
       "  </thead>\n",
       "  <tbody>\n",
       "    <tr>\n",
       "      <th>0</th>\n",
       "      <td>1950</td>\n",
       "      <td>375323.0</td>\n",
       "      <td>373006.0</td>\n",
       "      <td>748329.0</td>\n",
       "    </tr>\n",
       "    <tr>\n",
       "      <th>1</th>\n",
       "      <td>1951</td>\n",
       "      <td>380155.0</td>\n",
       "      <td>372542.0</td>\n",
       "      <td>752697.0</td>\n",
       "    </tr>\n",
       "    <tr>\n",
       "      <th>2</th>\n",
       "      <td>1952</td>\n",
       "      <td>387003.0</td>\n",
       "      <td>380636.0</td>\n",
       "      <td>767639.0</td>\n",
       "    </tr>\n",
       "    <tr>\n",
       "      <th>3</th>\n",
       "      <td>1953</td>\n",
       "      <td>400373.0</td>\n",
       "      <td>390281.0</td>\n",
       "      <td>790654.0</td>\n",
       "    </tr>\n",
       "    <tr>\n",
       "      <th>4</th>\n",
       "      <td>1954</td>\n",
       "      <td>392610.0</td>\n",
       "      <td>382681.0</td>\n",
       "      <td>775291.0</td>\n",
       "    </tr>\n",
       "  </tbody>\n",
       "</table>\n",
       "</div>"
      ],
      "text/plain": [
       "  index.0  männlich  weiblich  Insgesamt\n",
       "0    1950  375323.0  373006.0   748329.0\n",
       "1    1951  380155.0  372542.0   752697.0\n",
       "2    1952  387003.0  380636.0   767639.0\n",
       "3    1953  400373.0  390281.0   790654.0\n",
       "4    1954  392610.0  382681.0   775291.0"
      ]
     },
     "execution_count": 16,
     "metadata": {},
     "output_type": "execute_result"
    }
   ],
   "source": [
    "#Verbinden mit dem Genisis Server und laden der Daten\n",
    "client = PyGenesisClient(site='DESTATIS', username='DEHFMC984H', password='m\\8+iAN&8}9rjj\\#')\n",
    "client.download_csv('12613-0002', 'data.csv')\n",
    "raw_data_df = client.read('12613-0002')\n",
    "test_df = client.read('12613-0002')\n",
    "test_df.head()"
   ]
  },
  {
   "cell_type": "code",
   "execution_count": 17,
   "metadata": {
    "collapsed": false,
    "jupyter": {
     "outputs_hidden": false
    },
    "pycharm": {
     "name": "#%%\n"
    }
   },
   "outputs": [
    {
     "data": {
      "text/html": [
       "<div>\n",
       "<style scoped>\n",
       "    .dataframe tbody tr th:only-of-type {\n",
       "        vertical-align: middle;\n",
       "    }\n",
       "\n",
       "    .dataframe tbody tr th {\n",
       "        vertical-align: top;\n",
       "    }\n",
       "\n",
       "    .dataframe thead th {\n",
       "        text-align: right;\n",
       "    }\n",
       "</style>\n",
       "<table border=\"1\" class=\"dataframe\">\n",
       "  <thead>\n",
       "    <tr style=\"text-align: right;\">\n",
       "      <th></th>\n",
       "      <th>männlich</th>\n",
       "      <th>weiblich</th>\n",
       "      <th>Insgesamt</th>\n",
       "    </tr>\n",
       "    <tr>\n",
       "      <th>jahre</th>\n",
       "      <th></th>\n",
       "      <th></th>\n",
       "      <th></th>\n",
       "    </tr>\n",
       "  </thead>\n",
       "  <tbody>\n",
       "    <tr>\n",
       "      <th>1990</th>\n",
       "      <td>425093.0</td>\n",
       "      <td>496352.0</td>\n",
       "      <td>921445.0</td>\n",
       "    </tr>\n",
       "    <tr>\n",
       "      <th>1991</th>\n",
       "      <td>421818.0</td>\n",
       "      <td>489427.0</td>\n",
       "      <td>911245.0</td>\n",
       "    </tr>\n",
       "    <tr>\n",
       "      <th>1992</th>\n",
       "      <td>410583.0</td>\n",
       "      <td>474860.0</td>\n",
       "      <td>885443.0</td>\n",
       "    </tr>\n",
       "    <tr>\n",
       "      <th>1993</th>\n",
       "      <td>415874.0</td>\n",
       "      <td>481396.0</td>\n",
       "      <td>897270.0</td>\n",
       "    </tr>\n",
       "    <tr>\n",
       "      <th>1994</th>\n",
       "      <td>409375.0</td>\n",
       "      <td>475286.0</td>\n",
       "      <td>884661.0</td>\n",
       "    </tr>\n",
       "  </tbody>\n",
       "</table>\n",
       "</div>"
      ],
      "text/plain": [
       "       männlich  weiblich  Insgesamt\n",
       "jahre                               \n",
       "1990   425093.0  496352.0   921445.0\n",
       "1991   421818.0  489427.0   911245.0\n",
       "1992   410583.0  474860.0   885443.0\n",
       "1993   415874.0  481396.0   897270.0\n",
       "1994   409375.0  475286.0   884661.0"
      ]
     },
     "execution_count": 17,
     "metadata": {},
     "output_type": "execute_result"
    }
   ],
   "source": [
    "#Aendern der Daten von String in int fuer das anwenden von query\n",
    "raw_data_df = raw_data_df.astype({'index.0':'int'})\n",
    "#Umbenenen der Zeilennamen\n",
    "df = raw_data_df.rename(columns={'index.0': \"jahre\"}, errors=\"raise\")\n",
    "#Zeitraum auswaehlen\n",
    "df = df.query(\"jahre >= 1990\")\n",
    "df = df.set_index('jahre')\n",
    "df.head()\n"
   ]
  },
  {
   "cell_type": "code",
   "execution_count": 30,
   "metadata": {
    "collapsed": false,
    "jupyter": {
     "outputs_hidden": false
    },
    "pycharm": {
     "name": "#%%\n"
    }
   },
   "outputs": [
    {
     "data": {
      "text/plain": [
       "(array([1985., 1990., 1995., 2000., 2005., 2010., 2015., 2020., 2025.]),\n",
       " [Text(0, 0, ''),\n",
       "  Text(0, 0, ''),\n",
       "  Text(0, 0, ''),\n",
       "  Text(0, 0, ''),\n",
       "  Text(0, 0, ''),\n",
       "  Text(0, 0, ''),\n",
       "  Text(0, 0, ''),\n",
       "  Text(0, 0, ''),\n",
       "  Text(0, 0, '')])"
      ]
     },
     "execution_count": 30,
     "metadata": {},
     "output_type": "execute_result"
    },
    {
     "data": {
      "image/png": "[encoded data removed]",
      "text/plain": [
       "<Figure size 1152x432 with 1 Axes>"
      ]
     },
     "metadata": {},
     "output_type": "display_data"
    }
   ],
   "source": [
    "#Visualisierung\n",
    "plt.rcParams.update({'font.size': 22})\n",
    "ticks = [400000, 500000, 600000, 700000, 800000, 900000, 1000000]\n",
    "\n",
    "plt.figure(figsize=(16,6))\n",
    "sns.set_theme(style=\"whitegrid\", palette=\"pastel\")\n",
    "g = sns.lineplot(data=df)\n",
    "\n",
    "g.set_yticks(ticks)\n",
    "g.set_yticklabels(ticks)\n",
    "g.set_title(\"Todesfälle in Deutschland seit 1990\")\n",
    "g.set(xlabel=\"Jahre\", ylabel=\"Todesfälle\")\n",
    "plt.xticks(rotation=45)\n"
   ]
  },
  {
   "cell_type": "code",
   "execution_count": 18,
   "metadata": {
    "collapsed": false,
    "jupyter": {
     "outputs_hidden": false
    },
    "pycharm": {
     "name": "#%%\n"
    }
   },
   "outputs": [],
   "source": []
  }
 ],
 "metadata": {
  "kernelspec": {
   "display_name": "Python 3 (ipykernel)",
   "language": "python",
   "name": "python3"
  },
  "language_info": {
   "codemirror_mode": {
    "name": "ipython",
    "version": 3
   },
   "file_extension": ".py",
   "mimetype": "text/x-python",
   "name": "python",
   "nbconvert_exporter": "python",
   "pygments_lexer": "ipython3",
   "version": "3.8.13"
  }
 },
 "nbformat": 4,
 "nbformat_minor": 4
}
