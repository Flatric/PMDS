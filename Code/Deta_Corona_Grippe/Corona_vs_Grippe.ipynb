{
 "cells": [
  {
   "cell_type": "markdown",
   "metadata": {},
   "source": [
    "# Gegenüberstellung Grippetote vs. Covidtote im Zeitraum 2017-2020"
   ]
  },
  {
   "cell_type": "markdown",
   "metadata": {},
   "source": [
    "Hierfür wurden die Daten aus dem Statistischen Bundesamt Destatis ID 23211-0002 verwendet."
   ]
  },
  {
   "cell_type": "code",
   "execution_count": 1,
   "metadata": {
    "pycharm": {
     "name": "#%%\n"
    }
   },
   "outputs": [],
   "source": [
    "#Import\n",
    "from pygenesis.py_genesis_client import PyGenesisClient\n",
    "import pandas as pd\n",
    "from pathlib import Path\n",
    "import seaborn as sns\n",
    "import matplotlib.pyplot as plt\n",
    "from matplotlib import dates\n"
   ]
  },
  {
   "cell_type": "code",
   "execution_count": 2,
   "metadata": {
    "pycharm": {
     "name": "#%%\n"
    }
   },
   "outputs": [],
   "source": [
    "#Data\n",
    "BEVOELKERUNGSSTAND = '12411-0001'\n",
    "TODESFAELLE = '12613-0002'\n",
    "Sterbefälle_je_1000_Einwohner_Deutschland_Monate = '12613-0005'\n",
    "TODESURSACHE = '23211-0002'"
   ]
  },
  {
   "cell_type": "code",
   "execution_count": 3,
   "metadata": {
    "pycharm": {
     "name": "#%%\n"
    }
   },
   "outputs": [
    {
     "ename": "FileNotFoundError",
     "evalue": "[Errno 2] No such file or directory: 'C:\\\\Users\\\\mikes\\\\OneDrive\\\\Desktop\\\\Uni\\\\PMDS\\\\Code\\\\Deta_Corona_Grippe\\\\23211-0002.xlsx'",
     "output_type": "error",
     "traceback": [
      "\u001B[1;31m---------------------------------------------------------------------------\u001B[0m",
      "\u001B[1;31mFileNotFoundError\u001B[0m                         Traceback (most recent call last)",
      "Input \u001B[1;32mIn [3]\u001B[0m, in \u001B[0;36m<cell line: 3>\u001B[1;34m()\u001B[0m\n\u001B[0;32m      1\u001B[0m DATA_DIR \u001B[38;5;241m=\u001B[39m Path\u001B[38;5;241m.\u001B[39mcwd()\n\u001B[0;32m      2\u001B[0m file_path_data \u001B[38;5;241m=\u001B[39m DATA_DIR \u001B[38;5;241m/\u001B[39m \u001B[38;5;124m'\u001B[39m\u001B[38;5;124m23211-0002.xlsx\u001B[39m\u001B[38;5;124m'\u001B[39m\n\u001B[1;32m----> 3\u001B[0m df \u001B[38;5;241m=\u001B[39m \u001B[43mpd\u001B[49m\u001B[38;5;241;43m.\u001B[39;49m\u001B[43mread_excel\u001B[49m\u001B[43m(\u001B[49m\u001B[43mfile_path_data\u001B[49m\u001B[43m,\u001B[49m\u001B[43m \u001B[49m\u001B[43mheader\u001B[49m\u001B[43m \u001B[49m\u001B[38;5;241;43m=\u001B[39;49m\u001B[43m \u001B[49m\u001B[38;5;241;43m4\u001B[39;49m\u001B[43m)\u001B[49m\n\u001B[0;32m      4\u001B[0m df\u001B[38;5;241m.\u001B[39mhead()\n",
      "File \u001B[1;32m~\\OneDrive\\Desktop\\Uni\\PMDS\\Code\\venv\\lib\\site-packages\\pandas\\util\\_decorators.py:311\u001B[0m, in \u001B[0;36mdeprecate_nonkeyword_arguments.<locals>.decorate.<locals>.wrapper\u001B[1;34m(*args, **kwargs)\u001B[0m\n\u001B[0;32m    305\u001B[0m \u001B[38;5;28;01mif\u001B[39;00m \u001B[38;5;28mlen\u001B[39m(args) \u001B[38;5;241m>\u001B[39m num_allow_args:\n\u001B[0;32m    306\u001B[0m     warnings\u001B[38;5;241m.\u001B[39mwarn(\n\u001B[0;32m    307\u001B[0m         msg\u001B[38;5;241m.\u001B[39mformat(arguments\u001B[38;5;241m=\u001B[39marguments),\n\u001B[0;32m    308\u001B[0m         \u001B[38;5;167;01mFutureWarning\u001B[39;00m,\n\u001B[0;32m    309\u001B[0m         stacklevel\u001B[38;5;241m=\u001B[39mstacklevel,\n\u001B[0;32m    310\u001B[0m     )\n\u001B[1;32m--> 311\u001B[0m \u001B[38;5;28;01mreturn\u001B[39;00m func(\u001B[38;5;241m*\u001B[39margs, \u001B[38;5;241m*\u001B[39m\u001B[38;5;241m*\u001B[39mkwargs)\n",
      "File \u001B[1;32m~\\OneDrive\\Desktop\\Uni\\PMDS\\Code\\venv\\lib\\site-packages\\pandas\\io\\excel\\_base.py:457\u001B[0m, in \u001B[0;36mread_excel\u001B[1;34m(io, sheet_name, header, names, index_col, usecols, squeeze, dtype, engine, converters, true_values, false_values, skiprows, nrows, na_values, keep_default_na, na_filter, verbose, parse_dates, date_parser, thousands, decimal, comment, skipfooter, convert_float, mangle_dupe_cols, storage_options)\u001B[0m\n\u001B[0;32m    455\u001B[0m \u001B[38;5;28;01mif\u001B[39;00m \u001B[38;5;129;01mnot\u001B[39;00m \u001B[38;5;28misinstance\u001B[39m(io, ExcelFile):\n\u001B[0;32m    456\u001B[0m     should_close \u001B[38;5;241m=\u001B[39m \u001B[38;5;28;01mTrue\u001B[39;00m\n\u001B[1;32m--> 457\u001B[0m     io \u001B[38;5;241m=\u001B[39m \u001B[43mExcelFile\u001B[49m\u001B[43m(\u001B[49m\u001B[43mio\u001B[49m\u001B[43m,\u001B[49m\u001B[43m \u001B[49m\u001B[43mstorage_options\u001B[49m\u001B[38;5;241;43m=\u001B[39;49m\u001B[43mstorage_options\u001B[49m\u001B[43m,\u001B[49m\u001B[43m \u001B[49m\u001B[43mengine\u001B[49m\u001B[38;5;241;43m=\u001B[39;49m\u001B[43mengine\u001B[49m\u001B[43m)\u001B[49m\n\u001B[0;32m    458\u001B[0m \u001B[38;5;28;01melif\u001B[39;00m engine \u001B[38;5;129;01mand\u001B[39;00m engine \u001B[38;5;241m!=\u001B[39m io\u001B[38;5;241m.\u001B[39mengine:\n\u001B[0;32m    459\u001B[0m     \u001B[38;5;28;01mraise\u001B[39;00m \u001B[38;5;167;01mValueError\u001B[39;00m(\n\u001B[0;32m    460\u001B[0m         \u001B[38;5;124m\"\u001B[39m\u001B[38;5;124mEngine should not be specified when passing \u001B[39m\u001B[38;5;124m\"\u001B[39m\n\u001B[0;32m    461\u001B[0m         \u001B[38;5;124m\"\u001B[39m\u001B[38;5;124man ExcelFile - ExcelFile already has the engine set\u001B[39m\u001B[38;5;124m\"\u001B[39m\n\u001B[0;32m    462\u001B[0m     )\n",
      "File \u001B[1;32m~\\OneDrive\\Desktop\\Uni\\PMDS\\Code\\venv\\lib\\site-packages\\pandas\\io\\excel\\_base.py:1376\u001B[0m, in \u001B[0;36mExcelFile.__init__\u001B[1;34m(self, path_or_buffer, engine, storage_options)\u001B[0m\n\u001B[0;32m   1374\u001B[0m     ext \u001B[38;5;241m=\u001B[39m \u001B[38;5;124m\"\u001B[39m\u001B[38;5;124mxls\u001B[39m\u001B[38;5;124m\"\u001B[39m\n\u001B[0;32m   1375\u001B[0m \u001B[38;5;28;01melse\u001B[39;00m:\n\u001B[1;32m-> 1376\u001B[0m     ext \u001B[38;5;241m=\u001B[39m \u001B[43minspect_excel_format\u001B[49m\u001B[43m(\u001B[49m\n\u001B[0;32m   1377\u001B[0m \u001B[43m        \u001B[49m\u001B[43mcontent_or_path\u001B[49m\u001B[38;5;241;43m=\u001B[39;49m\u001B[43mpath_or_buffer\u001B[49m\u001B[43m,\u001B[49m\u001B[43m \u001B[49m\u001B[43mstorage_options\u001B[49m\u001B[38;5;241;43m=\u001B[39;49m\u001B[43mstorage_options\u001B[49m\n\u001B[0;32m   1378\u001B[0m \u001B[43m    \u001B[49m\u001B[43m)\u001B[49m\n\u001B[0;32m   1379\u001B[0m     \u001B[38;5;28;01mif\u001B[39;00m ext \u001B[38;5;129;01mis\u001B[39;00m \u001B[38;5;28;01mNone\u001B[39;00m:\n\u001B[0;32m   1380\u001B[0m         \u001B[38;5;28;01mraise\u001B[39;00m \u001B[38;5;167;01mValueError\u001B[39;00m(\n\u001B[0;32m   1381\u001B[0m             \u001B[38;5;124m\"\u001B[39m\u001B[38;5;124mExcel file format cannot be determined, you must specify \u001B[39m\u001B[38;5;124m\"\u001B[39m\n\u001B[0;32m   1382\u001B[0m             \u001B[38;5;124m\"\u001B[39m\u001B[38;5;124man engine manually.\u001B[39m\u001B[38;5;124m\"\u001B[39m\n\u001B[0;32m   1383\u001B[0m         )\n",
      "File \u001B[1;32m~\\OneDrive\\Desktop\\Uni\\PMDS\\Code\\venv\\lib\\site-packages\\pandas\\io\\excel\\_base.py:1250\u001B[0m, in \u001B[0;36minspect_excel_format\u001B[1;34m(content_or_path, storage_options)\u001B[0m\n\u001B[0;32m   1247\u001B[0m \u001B[38;5;28;01mif\u001B[39;00m \u001B[38;5;28misinstance\u001B[39m(content_or_path, \u001B[38;5;28mbytes\u001B[39m):\n\u001B[0;32m   1248\u001B[0m     content_or_path \u001B[38;5;241m=\u001B[39m BytesIO(content_or_path)\n\u001B[1;32m-> 1250\u001B[0m \u001B[38;5;28;01mwith\u001B[39;00m \u001B[43mget_handle\u001B[49m\u001B[43m(\u001B[49m\n\u001B[0;32m   1251\u001B[0m \u001B[43m    \u001B[49m\u001B[43mcontent_or_path\u001B[49m\u001B[43m,\u001B[49m\u001B[43m \u001B[49m\u001B[38;5;124;43m\"\u001B[39;49m\u001B[38;5;124;43mrb\u001B[39;49m\u001B[38;5;124;43m\"\u001B[39;49m\u001B[43m,\u001B[49m\u001B[43m \u001B[49m\u001B[43mstorage_options\u001B[49m\u001B[38;5;241;43m=\u001B[39;49m\u001B[43mstorage_options\u001B[49m\u001B[43m,\u001B[49m\u001B[43m \u001B[49m\u001B[43mis_text\u001B[49m\u001B[38;5;241;43m=\u001B[39;49m\u001B[38;5;28;43;01mFalse\u001B[39;49;00m\n\u001B[0;32m   1252\u001B[0m \u001B[43m\u001B[49m\u001B[43m)\u001B[49m \u001B[38;5;28;01mas\u001B[39;00m handle:\n\u001B[0;32m   1253\u001B[0m     stream \u001B[38;5;241m=\u001B[39m handle\u001B[38;5;241m.\u001B[39mhandle\n\u001B[0;32m   1254\u001B[0m     stream\u001B[38;5;241m.\u001B[39mseek(\u001B[38;5;241m0\u001B[39m)\n",
      "File \u001B[1;32m~\\OneDrive\\Desktop\\Uni\\PMDS\\Code\\venv\\lib\\site-packages\\pandas\\io\\common.py:798\u001B[0m, in \u001B[0;36mget_handle\u001B[1;34m(path_or_buf, mode, encoding, compression, memory_map, is_text, errors, storage_options)\u001B[0m\n\u001B[0;32m    789\u001B[0m         handle \u001B[38;5;241m=\u001B[39m \u001B[38;5;28mopen\u001B[39m(\n\u001B[0;32m    790\u001B[0m             handle,\n\u001B[0;32m    791\u001B[0m             ioargs\u001B[38;5;241m.\u001B[39mmode,\n\u001B[1;32m   (...)\u001B[0m\n\u001B[0;32m    794\u001B[0m             newline\u001B[38;5;241m=\u001B[39m\u001B[38;5;124m\"\u001B[39m\u001B[38;5;124m\"\u001B[39m,\n\u001B[0;32m    795\u001B[0m         )\n\u001B[0;32m    796\u001B[0m     \u001B[38;5;28;01melse\u001B[39;00m:\n\u001B[0;32m    797\u001B[0m         \u001B[38;5;66;03m# Binary mode\u001B[39;00m\n\u001B[1;32m--> 798\u001B[0m         handle \u001B[38;5;241m=\u001B[39m \u001B[38;5;28;43mopen\u001B[39;49m\u001B[43m(\u001B[49m\u001B[43mhandle\u001B[49m\u001B[43m,\u001B[49m\u001B[43m \u001B[49m\u001B[43mioargs\u001B[49m\u001B[38;5;241;43m.\u001B[39;49m\u001B[43mmode\u001B[49m\u001B[43m)\u001B[49m\n\u001B[0;32m    799\u001B[0m     handles\u001B[38;5;241m.\u001B[39mappend(handle)\n\u001B[0;32m    801\u001B[0m \u001B[38;5;66;03m# Convert BytesIO or file objects passed with an encoding\u001B[39;00m\n",
      "\u001B[1;31mFileNotFoundError\u001B[0m: [Errno 2] No such file or directory: 'C:\\\\Users\\\\mikes\\\\OneDrive\\\\Desktop\\\\Uni\\\\PMDS\\\\Code\\\\Deta_Corona_Grippe\\\\23211-0002.xlsx'"
     ]
    }
   ],
   "source": [
    "DATA_DIR = Path.cwd()\n",
    "file_path_data = DATA_DIR / '23211-0002.xlsx'\n",
    "df = pd.read_excel(file_path_data, header = 4)\n",
    "df.head()"
   ]
  },
  {
   "cell_type": "code",
   "execution_count": null,
   "metadata": {
    "pycharm": {
     "name": "#%%\n"
    }
   },
   "outputs": [],
   "source": [
    "#Tabelle bearbeiten\n",
    "df.rename(columns={\"Todesursachenstatistik\": \"Todesursache\"}, inplace=True)\n",
    "df.drop(['männlich', 'weiblich'], axis=1,inplace=True) #delete column with männlich and weiblich\n",
    "df = df[df.Insgesamt != '-'] # keep rows without '-'"
   ]
  },
  {
   "cell_type": "code",
   "execution_count": null,
   "metadata": {
    "pycharm": {
     "name": "#%%\n"
    }
   },
   "outputs": [],
   "source": [
    "#Filtern nach Werten\n",
    "df_grippe = df.loc[df['Todesursache'] == 'Grippe']\n",
    "df_covid = df.loc[(df['Todesursache'] == 'COVID-19, Virus nicht nachgewiesen') | (df['Todesursache'] == 'COVID-19, Virus nachgewiesen')]\n",
    "df_insgesamt = df.loc[df['Todesursache'] == 'Insgesamt']\n"
   ]
  },
  {
   "cell_type": "code",
   "execution_count": null,
   "metadata": {
    "pycharm": {
     "name": "#%%\n"
    }
   },
   "outputs": [],
   "source": [
    "sum_der_grippe_tote = df_grippe['Insgesamt'].sum()\n",
    "sum_der_covid_tote = df_covid['Insgesamt'].sum()\n",
    "df_covid_vs_grippe = pd.DataFrame.from_dict({\n",
    "    'Todesursache': ['COVID-19', 'Grippe'],\n",
    "    'Insgesamt': [sum_der_covid_tote, sum_der_grippe_tote],\n",
    "    'Gesamt': [' ', ' ']\n",
    "})\n",
    "df_covid_vs_grippe.head()"
   ]
  },
  {
   "cell_type": "code",
   "execution_count": null,
   "metadata": {
    "pycharm": {
     "name": "#%%\n"
    }
   },
   "outputs": [],
   "source": [
    "fig, ax = plt.subplots(1, 4, figsize=(40, 10))\n",
    "fig.suptitle(\"Coronatote im Vergleich Grippetote in den Jahren 2017-2020 nach Destatis\",fontsize = 20)\n",
    "\n",
    "# Grippe\n",
    "sns.lineplot(ax=ax[0], data = df_insgesamt, x = \"Jahre\", y = \"Insgesamt\" , hue=\"Todesursache\")\n",
    "ax[0].set_title('Tote insgesamt ab 2010-2020')\n",
    "plt.ticklabel_format(useOffset=False, style='plain')\n",
    "# Charmander\n",
    "sns.barplot(ax=ax[1], data = df_grippe, x = \"Jahre\", y = \"Insgesamt\" , hue=\"Todesursache\")\n",
    "ax[1].set_title('Grippetote ab 2010-2020')\n",
    "\n",
    "# Squirtle\n",
    "sns.barplot(ax=ax[2], data = df_covid, x = \"Jahre\", y = \"Insgesamt\" , hue=\"Todesursache\")\n",
    "ax[2].set_title('Coronatote im Jahr 2020')\n",
    "\n",
    "sns.barplot(ax=ax[3], data = df_covid_vs_grippe, x= 'Gesamt',  y = 'Insgesamt'  , hue=\"Todesursache\")\n",
    "ax[3].set_title('Coronatote im Jahr 2020 im vergleich Grippetote von 2010-2020')\n"
   ]
  },
  {
   "cell_type": "markdown",
   "metadata": {},
   "source": [
    "## Im Anschluss werden die Sterbefälle je 1000 Einwohner Deutschland pro Monate verglichen"
   ]
  },
  {
   "cell_type": "markdown",
   "metadata": {},
   "source": [
    "Der Vergleich dient zur Veranschaulichung der Todeszahlen zwischen den Insgesamt verstorbenen Menschen in Deutschland im Raum 2017/2018 und 2020/2021."
   ]
  },
  {
   "cell_type": "code",
   "execution_count": null,
   "metadata": {
    "pycharm": {
     "name": "#%%\n"
    }
   },
   "outputs": [],
   "source": [
    "client = PyGenesisClient(site='DESTATIS', username='DEHFMC984H', password='m\\8+iAN&8}9rjj\\#')\n",
    "client.download_excel(Sterbefälle_je_1000_Einwohner_Deutschland_Monate, 'sterbefälle.xlsx') #Sterbefälle_je_1000_Einwohner_Deutschland_Monate\n",
    "df_sterbefaelle = client.read(Sterbefälle_je_1000_Einwohner_Deutschland_Monate)\n",
    "df_sterbefaelle.head()"
   ]
  },
  {
   "cell_type": "code",
   "execution_count": null,
   "metadata": {
    "pycharm": {
     "name": "#%%\n"
    }
   },
   "outputs": [],
   "source": [
    "#Daten umformatieren\n",
    "dict_column = {'index.0': 'Jahre','index.1': 'Monate'}\n",
    "dict_data = {'Januar': 1,'Februar': 2,'März': 3,'April': 4,'Mai': 5,'Juni': 6,'Juli': 7,'August': 8,'September': 9,'Oktober': 10,'November': 11,'Dezember': 12}\n",
    "\n",
    "df_sterbefaelle.rename(columns=dict_column, inplace=True)\n",
    "\n",
    "df_sterbefaelle"
   ]
  },
  {
   "cell_type": "code",
   "execution_count": null,
   "metadata": {
    "pycharm": {
     "name": "#%%\n"
    }
   },
   "outputs": [],
   "source": [
    "df_sterbefaelle.Monate = df_sterbefaelle.Monate.map(dict_data)\n",
    "df_sterbefaelle['Jahre'] =  df_sterbefaelle.Jahre.astype(int)\n",
    "df_sterbefaelle['Zeitstempel'] = pd.to_datetime(df_sterbefaelle.Jahre.astype(str) + '/' + df_sterbefaelle.Monate.astype(str) + '/01')\n",
    "df_sterbefaelle.drop(['Jahre', 'Monate','Sterbefälle je 1000 Einwohner.Anzahl'], axis=1,inplace=True) #delete column with männlich and weiblich\n",
    "df_sterbefaelle"
   ]
  },
  {
   "cell_type": "code",
   "execution_count": null,
   "metadata": {
    "pycharm": {
     "name": "#%%\n"
    }
   },
   "outputs": [],
   "source": [
    "df_neu = pd.DataFrame()\n",
    "data = []\n",
    "for i in range(len(df_sterbefaelle.index)):\n",
    "    if i+12 in range(len(df_sterbefaelle.index)):\n",
    "        data.append(df_sterbefaelle['Gestorbene.Anzahl'][i+12] - df_sterbefaelle['Gestorbene.Anzahl'][i])\n",
    "df_neu['Delta'] = data\n",
    "df_neu['Time'] = df_sterbefaelle['Zeitstempel'][:-12]\n",
    "df_neu"
   ]
  },
  {
   "cell_type": "code",
   "execution_count": null,
   "metadata": {
    "pycharm": {
     "name": "#%%\n"
    }
   },
   "outputs": [],
   "source": [
    "sns.set_theme(style = \"whitegrid\")\n",
    "plt.gcf().set_size_inches(50, 10)\n",
    "bx = sns.lineplot(data = df_neu, x = \"Time\", y = \"Delta\", marker=\"o\")\n",
    "bx.set(xticks=df_neu.Time.values[::3])\n",
    "bx.set_xticklabels(bx.get_xticks(), rotation = 45)\n",
    "bx.xaxis.set_major_formatter(dates.DateFormatter(\"%b-%Y\"))\n",
    "bx.set_ylabel(\"Anzahl der Todesfälle\", fontsize = 20)\n",
    "bx.set_xlabel(\"Zeitspanne\", fontsize = 20)\n",
    "bx.set_title(\"Differentbildung im Vergleich in den Jahren 1990-2021 nach Destatis\",fontsize = 20)"
   ]
  },
  {
   "cell_type": "markdown",
   "metadata": {
    "pycharm": {
     "name": "#%% md\n"
    }
   },
   "source": []
  },
  {
   "cell_type": "code",
   "execution_count": null,
   "metadata": {
    "pycharm": {
     "name": "#%%\n"
    }
   },
   "outputs": [],
   "source": [
    "standardized"
   ]
  }
 ],
 "metadata": {
  "kernelspec": {
   "display_name": "Python 3 (ipykernel)",
   "language": "python",
   "name": "python3"
  },
  "language_info": {
   "codemirror_mode": {
    "name": "ipython",
    "version": 3
   },
   "file_extension": ".py",
   "mimetype": "text/x-python",
   "name": "python",
   "nbconvert_exporter": "python",
   "pygments_lexer": "ipython3",
   "version": "3.10.2"
  }
 },
 "nbformat": 4,
 "nbformat_minor": 1
}