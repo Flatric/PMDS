{
 "cells": [
  {
   "cell_type": "code",
   "execution_count": 2,
   "outputs": [],
   "source": [
    "#Import\n",
    "import os.path\n",
    "\n",
    "from pygenesis.py_genesis_client import PyGenesisClient\n",
    "import pandas as pd\n",
    "from pathlib import Path\n",
    "import seaborn as sns\n",
    "import matplotlib.pyplot as plt\n",
    "from matplotlib import dates"
   ],
   "metadata": {
    "collapsed": false,
    "pycharm": {
     "name": "#%%\n"
    }
   }
  },
  {
   "cell_type": "code",
   "execution_count": 5,
   "outputs": [
    {
     "data": {
      "text/plain": "     Unnamed: 0  Baden-Württemberg    Bayern   Berlin  Brandenburg  Bremen  \\\n0    31.12.1990                NaN       NaN      NaN          NaN     NaN   \n1  unter 1 Jahr           119162.0  136550.0  41485.0      29040.0  6851.0   \n2     1-Jährige           114672.0  129986.0  38824.0      31792.0  6552.0   \n3     2-Jährige           116459.0  130981.0  39899.0      34300.0  6537.0   \n4     3-Jährige           110080.0  124102.0  38900.0      35986.0  6235.0   \n\n   Hamburg   Hessen  Mecklenburg-Vorpommern  Niedersachsen  \\\n0      NaN      NaN                     NaN            NaN   \n1  16629.0  62328.0                 23291.0        83095.0   \n2  15550.0  60670.0                 25424.0        79748.0   \n3  15772.0  60841.0                 27284.0        81154.0   \n4  14534.0  58403.0                 29125.0        77700.0   \n\n   Nordrhein-Westfalen  Rheinland-Pfalz  Saarland  Sachsen  Sachsen-Anhalt  \\\n0                  NaN              NaN       NaN      NaN             NaN   \n1             199981.0          43012.0   11215.0  49556.0         31411.0   \n2             192662.0          41210.0   10950.0  53584.0         33451.0   \n3             195867.0          42553.0   11180.0  56712.0         36113.0   \n4             188769.0          41173.0   10953.0  59380.0         37339.0   \n\n   Schleswig-Holstein  Thüringen    Gesamt  \n0                 NaN        NaN       NaN  \n1             29179.0    28657.0  911442.0  \n2             28288.0    30488.0  893851.0  \n3             28726.0    33405.0  917783.0  \n4             27379.0    34428.0  894486.0  ",
      "text/html": "<div>\n<style scoped>\n    .dataframe tbody tr th:only-of-type {\n        vertical-align: middle;\n    }\n\n    .dataframe tbody tr th {\n        vertical-align: top;\n    }\n\n    .dataframe thead th {\n        text-align: right;\n    }\n</style>\n<table border=\"1\" class=\"dataframe\">\n  <thead>\n    <tr style=\"text-align: right;\">\n      <th></th>\n      <th>Unnamed: 0</th>\n      <th>Baden-Württemberg</th>\n      <th>Bayern</th>\n      <th>Berlin</th>\n      <th>Brandenburg</th>\n      <th>Bremen</th>\n      <th>Hamburg</th>\n      <th>Hessen</th>\n      <th>Mecklenburg-Vorpommern</th>\n      <th>Niedersachsen</th>\n      <th>Nordrhein-Westfalen</th>\n      <th>Rheinland-Pfalz</th>\n      <th>Saarland</th>\n      <th>Sachsen</th>\n      <th>Sachsen-Anhalt</th>\n      <th>Schleswig-Holstein</th>\n      <th>Thüringen</th>\n      <th>Gesamt</th>\n    </tr>\n  </thead>\n  <tbody>\n    <tr>\n      <th>0</th>\n      <td>31.12.1990</td>\n      <td>NaN</td>\n      <td>NaN</td>\n      <td>NaN</td>\n      <td>NaN</td>\n      <td>NaN</td>\n      <td>NaN</td>\n      <td>NaN</td>\n      <td>NaN</td>\n      <td>NaN</td>\n      <td>NaN</td>\n      <td>NaN</td>\n      <td>NaN</td>\n      <td>NaN</td>\n      <td>NaN</td>\n      <td>NaN</td>\n      <td>NaN</td>\n      <td>NaN</td>\n    </tr>\n    <tr>\n      <th>1</th>\n      <td>unter 1 Jahr</td>\n      <td>119162.0</td>\n      <td>136550.0</td>\n      <td>41485.0</td>\n      <td>29040.0</td>\n      <td>6851.0</td>\n      <td>16629.0</td>\n      <td>62328.0</td>\n      <td>23291.0</td>\n      <td>83095.0</td>\n      <td>199981.0</td>\n      <td>43012.0</td>\n      <td>11215.0</td>\n      <td>49556.0</td>\n      <td>31411.0</td>\n      <td>29179.0</td>\n      <td>28657.0</td>\n      <td>911442.0</td>\n    </tr>\n    <tr>\n      <th>2</th>\n      <td>1-Jährige</td>\n      <td>114672.0</td>\n      <td>129986.0</td>\n      <td>38824.0</td>\n      <td>31792.0</td>\n      <td>6552.0</td>\n      <td>15550.0</td>\n      <td>60670.0</td>\n      <td>25424.0</td>\n      <td>79748.0</td>\n      <td>192662.0</td>\n      <td>41210.0</td>\n      <td>10950.0</td>\n      <td>53584.0</td>\n      <td>33451.0</td>\n      <td>28288.0</td>\n      <td>30488.0</td>\n      <td>893851.0</td>\n    </tr>\n    <tr>\n      <th>3</th>\n      <td>2-Jährige</td>\n      <td>116459.0</td>\n      <td>130981.0</td>\n      <td>39899.0</td>\n      <td>34300.0</td>\n      <td>6537.0</td>\n      <td>15772.0</td>\n      <td>60841.0</td>\n      <td>27284.0</td>\n      <td>81154.0</td>\n      <td>195867.0</td>\n      <td>42553.0</td>\n      <td>11180.0</td>\n      <td>56712.0</td>\n      <td>36113.0</td>\n      <td>28726.0</td>\n      <td>33405.0</td>\n      <td>917783.0</td>\n    </tr>\n    <tr>\n      <th>4</th>\n      <td>3-Jährige</td>\n      <td>110080.0</td>\n      <td>124102.0</td>\n      <td>38900.0</td>\n      <td>35986.0</td>\n      <td>6235.0</td>\n      <td>14534.0</td>\n      <td>58403.0</td>\n      <td>29125.0</td>\n      <td>77700.0</td>\n      <td>188769.0</td>\n      <td>41173.0</td>\n      <td>10953.0</td>\n      <td>59380.0</td>\n      <td>37339.0</td>\n      <td>27379.0</td>\n      <td>34428.0</td>\n      <td>894486.0</td>\n    </tr>\n  </tbody>\n</table>\n</div>"
     },
     "execution_count": 5,
     "metadata": {},
     "output_type": "execute_result"
    }
   ],
   "source": [
    "DATA_DIR = Path.cwd()\n",
    "file_path_data = DATA_DIR / 'data/12411-0012.xlsx'\n",
    "df = pd.read_excel(file_path_data, header = 4)\n",
    "df.head()"
   ],
   "metadata": {
    "collapsed": false,
    "pycharm": {
     "name": "#%%\n"
    }
   }
  },
  {
   "cell_type": "code",
   "execution_count": 6,
   "outputs": [],
   "source": [
    "#Tabelle bearbeiten\n",
    "df.rename(columns={\"Unnamed: 0\": \"Todesalter\"}, inplace=True)\n",
    "df.drop(['Baden-Württemberg', 'Bayern', 'Mecklenburg-Vorpommern', 'Hessen', 'Schleswig-Holstein', 'Berlin', 'Brandenburg', 'Bremen', 'Hamburg', 'Nordrhein-Westfalen', 'Niedersachsen', 'Rheinland-Pfalz', 'Saarland', 'Sachsen-Anhalt', 'Sachsen', 'Thüringen'], axis=1,inplace=True) #delete column with männlich and weiblich"
   ],
   "metadata": {
    "collapsed": false,
    "pycharm": {
     "name": "#%%\n"
    }
   }
  },
  {
   "cell_type": "code",
   "execution_count": 7,
   "outputs": [
    {
     "data": {
      "text/plain": "     Todesalter    Gesamt\n0    31.12.1990       NaN\n1  unter 1 Jahr  911442.0\n2     1-Jährige  893851.0\n3     2-Jährige  917783.0\n4     3-Jährige  894486.0",
      "text/html": "<div>\n<style scoped>\n    .dataframe tbody tr th:only-of-type {\n        vertical-align: middle;\n    }\n\n    .dataframe tbody tr th {\n        vertical-align: top;\n    }\n\n    .dataframe thead th {\n        text-align: right;\n    }\n</style>\n<table border=\"1\" class=\"dataframe\">\n  <thead>\n    <tr style=\"text-align: right;\">\n      <th></th>\n      <th>Todesalter</th>\n      <th>Gesamt</th>\n    </tr>\n  </thead>\n  <tbody>\n    <tr>\n      <th>0</th>\n      <td>31.12.1990</td>\n      <td>NaN</td>\n    </tr>\n    <tr>\n      <th>1</th>\n      <td>unter 1 Jahr</td>\n      <td>911442.0</td>\n    </tr>\n    <tr>\n      <th>2</th>\n      <td>1-Jährige</td>\n      <td>893851.0</td>\n    </tr>\n    <tr>\n      <th>3</th>\n      <td>2-Jährige</td>\n      <td>917783.0</td>\n    </tr>\n    <tr>\n      <th>4</th>\n      <td>3-Jährige</td>\n      <td>894486.0</td>\n    </tr>\n  </tbody>\n</table>\n</div>"
     },
     "execution_count": 7,
     "metadata": {},
     "output_type": "execute_result"
    }
   ],
   "source": [
    "df.head()"
   ],
   "metadata": {
    "collapsed": false,
    "pycharm": {
     "name": "#%%\n"
    }
   }
  },
  {
   "cell_type": "code",
   "execution_count": 16,
   "outputs": [
    {
     "name": "stdout",
     "output_type": "stream",
     "text": [
      "1990\n",
      "1991\n",
      "1992\n",
      "1993\n",
      "1994\n",
      "1995\n",
      "1996\n",
      "1997\n",
      "1998\n",
      "1999\n",
      "2000\n",
      "2001\n",
      "2002\n",
      "2003\n",
      "2004\n",
      "2005\n",
      "2006\n",
      "2007\n",
      "2008\n",
      "2009\n",
      "2010\n",
      "2011\n",
      "2012\n",
      "2013\n",
      "2014\n",
      "2015\n",
      "2016\n",
      "2017\n",
      "2018\n",
      "2019\n"
     ]
    }
   ],
   "source": [
    "for i in range(1990, 2020):\n",
    "    df."
   ],
   "metadata": {
    "collapsed": false,
    "pycharm": {
     "name": "#%%\n"
    }
   }
  },
  {
   "cell_type": "code",
   "execution_count": null,
   "outputs": [],
   "source": [],
   "metadata": {
    "collapsed": false,
    "pycharm": {
     "name": "#%%\n"
    }
   }
  }
 ],
 "metadata": {
  "kernelspec": {
   "display_name": "Python 3",
   "language": "python",
   "name": "python3"
  },
  "language_info": {
   "codemirror_mode": {
    "name": "ipython",
    "version": 2
   },
   "file_extension": ".py",
   "mimetype": "text/x-python",
   "name": "python",
   "nbconvert_exporter": "python",
   "pygments_lexer": "ipython2",
   "version": "2.7.6"
  }
 },
 "nbformat": 4,
 "nbformat_minor": 0
}