{
 "cells": [
  {
   "cell_type": "code",
   "execution_count": 28,
   "metadata": {
    "collapsed": true
   },
   "outputs": [],
   "source": [
    "import os\n",
    "import pandas as pd\n",
    "import seaborn as sns\n",
    "import matplotlib as mpl\n",
    "import matplotlib.pyplot as plt\n",
    "import numpy as np\n",
    "\n",
    "hs_blau = \"#22376f\"\n",
    "#mpl.rcParams['axes.prop_cycle'] = mpl.cycler(color=[\"#0645ad\", \"#800020\", \"#1EB9E7\", ])"
   ]
  },
  {
   "cell_type": "markdown",
   "source": [
    "# Einlesen der Bevölkerungsdaten aus Österreich"
   ],
   "metadata": {
    "collapsed": false
   }
  },
  {
   "cell_type": "markdown",
   "source": [
    "### Einlesen der Sterbefälle in Östereich über die Altersgruppen"
   ],
   "metadata": {
    "collapsed": false
   }
  },
  {
   "cell_type": "code",
   "execution_count": 29,
   "outputs": [
    {
     "data": {
      "text/plain": "     Nr.  Jahr            Alter  Männer  Frauen  Insgesamt\n0      1  2006       Insgesamt    34757   39538      74295\n1      2  2006   0 bis 14 Jahre     261     186        447\n2      3  2006  15 bis 19 Jahre     181      62        243\n3      4  2006  20 bis 24 Jahre     222      75        297\n4      5  2006  25 bis 29 Jahre     183      75        258\n..   ...   ...              ...     ...     ...        ...\n250  251  2020  65 bis 69 Jahre    3607    2082       5689\n251  252  2020  70 bis 74 Jahre    5069    3215       8284\n252  253  2020  75 bis 79 Jahre    6970    5265      12235\n253  254  2020  80 bis 84 Jahre    7809    7072      14881\n254  255  2020             85 <   13548   24165      37713\n\n[255 rows x 6 columns]",
      "text/html": "<div>\n<style scoped>\n    .dataframe tbody tr th:only-of-type {\n        vertical-align: middle;\n    }\n\n    .dataframe tbody tr th {\n        vertical-align: top;\n    }\n\n    .dataframe thead th {\n        text-align: right;\n    }\n</style>\n<table border=\"1\" class=\"dataframe\">\n  <thead>\n    <tr style=\"text-align: right;\">\n      <th></th>\n      <th>Nr.</th>\n      <th>Jahr</th>\n      <th>Alter</th>\n      <th>Männer</th>\n      <th>Frauen</th>\n      <th>Insgesamt</th>\n    </tr>\n  </thead>\n  <tbody>\n    <tr>\n      <th>0</th>\n      <td>1</td>\n      <td>2006</td>\n      <td>Insgesamt</td>\n      <td>34757</td>\n      <td>39538</td>\n      <td>74295</td>\n    </tr>\n    <tr>\n      <th>1</th>\n      <td>2</td>\n      <td>2006</td>\n      <td>0 bis 14 Jahre</td>\n      <td>261</td>\n      <td>186</td>\n      <td>447</td>\n    </tr>\n    <tr>\n      <th>2</th>\n      <td>3</td>\n      <td>2006</td>\n      <td>15 bis 19 Jahre</td>\n      <td>181</td>\n      <td>62</td>\n      <td>243</td>\n    </tr>\n    <tr>\n      <th>3</th>\n      <td>4</td>\n      <td>2006</td>\n      <td>20 bis 24 Jahre</td>\n      <td>222</td>\n      <td>75</td>\n      <td>297</td>\n    </tr>\n    <tr>\n      <th>4</th>\n      <td>5</td>\n      <td>2006</td>\n      <td>25 bis 29 Jahre</td>\n      <td>183</td>\n      <td>75</td>\n      <td>258</td>\n    </tr>\n    <tr>\n      <th>...</th>\n      <td>...</td>\n      <td>...</td>\n      <td>...</td>\n      <td>...</td>\n      <td>...</td>\n      <td>...</td>\n    </tr>\n    <tr>\n      <th>250</th>\n      <td>251</td>\n      <td>2020</td>\n      <td>65 bis 69 Jahre</td>\n      <td>3607</td>\n      <td>2082</td>\n      <td>5689</td>\n    </tr>\n    <tr>\n      <th>251</th>\n      <td>252</td>\n      <td>2020</td>\n      <td>70 bis 74 Jahre</td>\n      <td>5069</td>\n      <td>3215</td>\n      <td>8284</td>\n    </tr>\n    <tr>\n      <th>252</th>\n      <td>253</td>\n      <td>2020</td>\n      <td>75 bis 79 Jahre</td>\n      <td>6970</td>\n      <td>5265</td>\n      <td>12235</td>\n    </tr>\n    <tr>\n      <th>253</th>\n      <td>254</td>\n      <td>2020</td>\n      <td>80 bis 84 Jahre</td>\n      <td>7809</td>\n      <td>7072</td>\n      <td>14881</td>\n    </tr>\n    <tr>\n      <th>254</th>\n      <td>255</td>\n      <td>2020</td>\n      <td>85 &lt;</td>\n      <td>13548</td>\n      <td>24165</td>\n      <td>37713</td>\n    </tr>\n  </tbody>\n</table>\n<p>255 rows × 6 columns</p>\n</div>"
     },
     "execution_count": 29,
     "metadata": {},
     "output_type": "execute_result"
    }
   ],
   "source": [
    "#read sterbefälle pro monat\n",
    "sterbefälle_altersgruppen = pd.read_excel(f\"Data\\\\gestorbene_seit_2006_nach_altersgruppen_bearbeitet.xlsx\")\n",
    "\n",
    "#Datensatz ist selbst zusammengebaut\n",
    "sterbefälle_altersgruppen = sterbefälle_altersgruppen[sterbefälle_altersgruppen.columns].replace([\"-\",\".\",\"X \"],0)\n",
    "sterbefälle_altersgruppen"
   ],
   "metadata": {
    "collapsed": false,
    "pycharm": {
     "name": "#%%\n"
    }
   }
  },
  {
   "cell_type": "markdown",
   "source": [
    "### Österreich Bevölkerung"
   ],
   "metadata": {
    "collapsed": false
   }
  },
  {
   "cell_type": "code",
   "execution_count": 30,
   "outputs": [
    {
     "data": {
      "text/plain": "     Jahr        Altersgruppen  männlich  weiblich  Insgesamt\n0    2002         bis 14 Jahre    689766    656006    1345772\n1    2002      15 bis 19 Jahre    246631    235420     482051\n2    2002      20 bis 24 Jahre    244102    236895     480997\n3    2002      25 bis 29 Jahre    263353    264940     528293\n4    2002      30 bis 34 Jahre    331851    327188     659039\n..    ...                  ...       ...       ...        ...\n395  2021      85 bis 89 Jahre     50820     89646     140466\n396  2021      90 bis 94 Jahre     19894     45781      65675\n397  2021      95 bis 99 Jahre      3396     12902      16298\n398  2021  100 Jahre und älter       218      1203       1421\n399  2021               Gesamt   4396952   4535712    8932664\n\n[400 rows x 5 columns]",
      "text/html": "<div>\n<style scoped>\n    .dataframe tbody tr th:only-of-type {\n        vertical-align: middle;\n    }\n\n    .dataframe tbody tr th {\n        vertical-align: top;\n    }\n\n    .dataframe thead th {\n        text-align: right;\n    }\n</style>\n<table border=\"1\" class=\"dataframe\">\n  <thead>\n    <tr style=\"text-align: right;\">\n      <th></th>\n      <th>Jahr</th>\n      <th>Altersgruppen</th>\n      <th>männlich</th>\n      <th>weiblich</th>\n      <th>Insgesamt</th>\n    </tr>\n  </thead>\n  <tbody>\n    <tr>\n      <th>0</th>\n      <td>2002</td>\n      <td>bis 14 Jahre</td>\n      <td>689766</td>\n      <td>656006</td>\n      <td>1345772</td>\n    </tr>\n    <tr>\n      <th>1</th>\n      <td>2002</td>\n      <td>15 bis 19 Jahre</td>\n      <td>246631</td>\n      <td>235420</td>\n      <td>482051</td>\n    </tr>\n    <tr>\n      <th>2</th>\n      <td>2002</td>\n      <td>20 bis 24 Jahre</td>\n      <td>244102</td>\n      <td>236895</td>\n      <td>480997</td>\n    </tr>\n    <tr>\n      <th>3</th>\n      <td>2002</td>\n      <td>25 bis 29 Jahre</td>\n      <td>263353</td>\n      <td>264940</td>\n      <td>528293</td>\n    </tr>\n    <tr>\n      <th>4</th>\n      <td>2002</td>\n      <td>30 bis 34 Jahre</td>\n      <td>331851</td>\n      <td>327188</td>\n      <td>659039</td>\n    </tr>\n    <tr>\n      <th>...</th>\n      <td>...</td>\n      <td>...</td>\n      <td>...</td>\n      <td>...</td>\n      <td>...</td>\n    </tr>\n    <tr>\n      <th>395</th>\n      <td>2021</td>\n      <td>85 bis 89 Jahre</td>\n      <td>50820</td>\n      <td>89646</td>\n      <td>140466</td>\n    </tr>\n    <tr>\n      <th>396</th>\n      <td>2021</td>\n      <td>90 bis 94 Jahre</td>\n      <td>19894</td>\n      <td>45781</td>\n      <td>65675</td>\n    </tr>\n    <tr>\n      <th>397</th>\n      <td>2021</td>\n      <td>95 bis 99 Jahre</td>\n      <td>3396</td>\n      <td>12902</td>\n      <td>16298</td>\n    </tr>\n    <tr>\n      <th>398</th>\n      <td>2021</td>\n      <td>100 Jahre und älter</td>\n      <td>218</td>\n      <td>1203</td>\n      <td>1421</td>\n    </tr>\n    <tr>\n      <th>399</th>\n      <td>2021</td>\n      <td>Gesamt</td>\n      <td>4396952</td>\n      <td>4535712</td>\n      <td>8932664</td>\n    </tr>\n  </tbody>\n</table>\n<p>400 rows × 5 columns</p>\n</div>"
     },
     "execution_count": 30,
     "metadata": {},
     "output_type": "execute_result"
    }
   ],
   "source": [
    "bevölkerung_österreich = pd.read_excel(f\"Data\\\\table_2022-05-29_19-20-56.xlsx\", index_col=0).reset_index(drop=True)\n",
    "bevölkerung_österreich"
   ],
   "metadata": {
    "collapsed": false,
    "pycharm": {
     "name": "#%%\n"
    }
   }
  },
  {
   "cell_type": "markdown",
   "source": [
    "### Deutschland Bevölkerung"
   ],
   "metadata": {
    "collapsed": false
   }
  },
  {
   "cell_type": "code",
   "execution_count": 31,
   "outputs": [
    {
     "data": {
      "text/plain": "      Jahr              Alter  Baden-Württemberg    Bayern   Berlin  \\\n0     1990       unter 1 Jahr             119162    136550    41485   \n1     1990          1-Jährige             114672    129986    38824   \n2     1990          2-Jährige             116459    130981    39899   \n3     1990          3-Jährige             110080    124102    38900   \n4     1990          4-Jährige             109664    123680    37737   \n...    ...                ...                ...       ...      ...   \n2847  2020         87-Jährige              38312     43512    10243   \n2848  2020         88-Jährige              33330     38699     8576   \n2849  2020         89-Jährige              29520     33392     7694   \n2850  2020  90 Jahre und mehr             108225    122252    30029   \n2851  2020          Insgesamt           11103043  13140183  3664088   \n\n      Brandenburg  Bremen  Hamburg   Hessen  Mecklenburg-Vorpommern  \\\n0           29040    6851    16629    62328                   23291   \n1           31792    6552    15550    60670                   25424   \n2           34300    6537    15772    60841                   27284   \n3           35986    6235    14534    58403                   29125   \n4           35290    6026    13868    56944                   28284   \n...           ...     ...      ...      ...                     ...   \n2847        10105    2244     5301    20549                    6791   \n2848         8811    1938     4580    18106                    6091   \n2849         7667    1749     4168    15998                    5061   \n2850        26464    7160    17250    62984                   16715   \n2851      2531071  680130  1852478  6293154                 1610774   \n\n      Niedersachsen  Nordrhein-Westfalen  Rheinland-Pfalz  Saarland  Sachsen  \\\n0             83095               199981            43012     11215    49556   \n1             79748               192662            41210     10950    53584   \n2             81154               195867            42553     11180    56712   \n3             77700               188769            41173     10953    59380   \n4             76474               184442            40529     10981    58300   \n...             ...                  ...              ...       ...      ...   \n2847          27702                62723            14619      3985    17717   \n2848          24439                55507            12764      3583    15081   \n2849          22048                49406            11429      3179    13748   \n2850          83231               184859            43862     10966    51868   \n2851        8003421             17925570          4098391    983991  4056941   \n\n      Sachsen-Anhalt  Schleswig-Holstein  Thüringen    Gesamt  \n0              31411               29179      28657    911442  \n1              33451               28288      30488    893851  \n2              36113               28726      33405    917783  \n3              37339               27379      34428    894486  \n4              36631               26005      34154    879009  \n...              ...                 ...        ...       ...  \n2847            9317                9953       8377    291450  \n2848            8137                8488       7415    255545  \n2849            7079                7715       6428    226281  \n2850           24957               29586      23283    843691  \n2851         2180684             2910875    2120237  83155031  \n\n[2852 rows x 19 columns]",
      "text/html": "<div>\n<style scoped>\n    .dataframe tbody tr th:only-of-type {\n        vertical-align: middle;\n    }\n\n    .dataframe tbody tr th {\n        vertical-align: top;\n    }\n\n    .dataframe thead th {\n        text-align: right;\n    }\n</style>\n<table border=\"1\" class=\"dataframe\">\n  <thead>\n    <tr style=\"text-align: right;\">\n      <th></th>\n      <th>Jahr</th>\n      <th>Alter</th>\n      <th>Baden-Württemberg</th>\n      <th>Bayern</th>\n      <th>Berlin</th>\n      <th>Brandenburg</th>\n      <th>Bremen</th>\n      <th>Hamburg</th>\n      <th>Hessen</th>\n      <th>Mecklenburg-Vorpommern</th>\n      <th>Niedersachsen</th>\n      <th>Nordrhein-Westfalen</th>\n      <th>Rheinland-Pfalz</th>\n      <th>Saarland</th>\n      <th>Sachsen</th>\n      <th>Sachsen-Anhalt</th>\n      <th>Schleswig-Holstein</th>\n      <th>Thüringen</th>\n      <th>Gesamt</th>\n    </tr>\n  </thead>\n  <tbody>\n    <tr>\n      <th>0</th>\n      <td>1990</td>\n      <td>unter 1 Jahr</td>\n      <td>119162</td>\n      <td>136550</td>\n      <td>41485</td>\n      <td>29040</td>\n      <td>6851</td>\n      <td>16629</td>\n      <td>62328</td>\n      <td>23291</td>\n      <td>83095</td>\n      <td>199981</td>\n      <td>43012</td>\n      <td>11215</td>\n      <td>49556</td>\n      <td>31411</td>\n      <td>29179</td>\n      <td>28657</td>\n      <td>911442</td>\n    </tr>\n    <tr>\n      <th>1</th>\n      <td>1990</td>\n      <td>1-Jährige</td>\n      <td>114672</td>\n      <td>129986</td>\n      <td>38824</td>\n      <td>31792</td>\n      <td>6552</td>\n      <td>15550</td>\n      <td>60670</td>\n      <td>25424</td>\n      <td>79748</td>\n      <td>192662</td>\n      <td>41210</td>\n      <td>10950</td>\n      <td>53584</td>\n      <td>33451</td>\n      <td>28288</td>\n      <td>30488</td>\n      <td>893851</td>\n    </tr>\n    <tr>\n      <th>2</th>\n      <td>1990</td>\n      <td>2-Jährige</td>\n      <td>116459</td>\n      <td>130981</td>\n      <td>39899</td>\n      <td>34300</td>\n      <td>6537</td>\n      <td>15772</td>\n      <td>60841</td>\n      <td>27284</td>\n      <td>81154</td>\n      <td>195867</td>\n      <td>42553</td>\n      <td>11180</td>\n      <td>56712</td>\n      <td>36113</td>\n      <td>28726</td>\n      <td>33405</td>\n      <td>917783</td>\n    </tr>\n    <tr>\n      <th>3</th>\n      <td>1990</td>\n      <td>3-Jährige</td>\n      <td>110080</td>\n      <td>124102</td>\n      <td>38900</td>\n      <td>35986</td>\n      <td>6235</td>\n      <td>14534</td>\n      <td>58403</td>\n      <td>29125</td>\n      <td>77700</td>\n      <td>188769</td>\n      <td>41173</td>\n      <td>10953</td>\n      <td>59380</td>\n      <td>37339</td>\n      <td>27379</td>\n      <td>34428</td>\n      <td>894486</td>\n    </tr>\n    <tr>\n      <th>4</th>\n      <td>1990</td>\n      <td>4-Jährige</td>\n      <td>109664</td>\n      <td>123680</td>\n      <td>37737</td>\n      <td>35290</td>\n      <td>6026</td>\n      <td>13868</td>\n      <td>56944</td>\n      <td>28284</td>\n      <td>76474</td>\n      <td>184442</td>\n      <td>40529</td>\n      <td>10981</td>\n      <td>58300</td>\n      <td>36631</td>\n      <td>26005</td>\n      <td>34154</td>\n      <td>879009</td>\n    </tr>\n    <tr>\n      <th>...</th>\n      <td>...</td>\n      <td>...</td>\n      <td>...</td>\n      <td>...</td>\n      <td>...</td>\n      <td>...</td>\n      <td>...</td>\n      <td>...</td>\n      <td>...</td>\n      <td>...</td>\n      <td>...</td>\n      <td>...</td>\n      <td>...</td>\n      <td>...</td>\n      <td>...</td>\n      <td>...</td>\n      <td>...</td>\n      <td>...</td>\n      <td>...</td>\n    </tr>\n    <tr>\n      <th>2847</th>\n      <td>2020</td>\n      <td>87-Jährige</td>\n      <td>38312</td>\n      <td>43512</td>\n      <td>10243</td>\n      <td>10105</td>\n      <td>2244</td>\n      <td>5301</td>\n      <td>20549</td>\n      <td>6791</td>\n      <td>27702</td>\n      <td>62723</td>\n      <td>14619</td>\n      <td>3985</td>\n      <td>17717</td>\n      <td>9317</td>\n      <td>9953</td>\n      <td>8377</td>\n      <td>291450</td>\n    </tr>\n    <tr>\n      <th>2848</th>\n      <td>2020</td>\n      <td>88-Jährige</td>\n      <td>33330</td>\n      <td>38699</td>\n      <td>8576</td>\n      <td>8811</td>\n      <td>1938</td>\n      <td>4580</td>\n      <td>18106</td>\n      <td>6091</td>\n      <td>24439</td>\n      <td>55507</td>\n      <td>12764</td>\n      <td>3583</td>\n      <td>15081</td>\n      <td>8137</td>\n      <td>8488</td>\n      <td>7415</td>\n      <td>255545</td>\n    </tr>\n    <tr>\n      <th>2849</th>\n      <td>2020</td>\n      <td>89-Jährige</td>\n      <td>29520</td>\n      <td>33392</td>\n      <td>7694</td>\n      <td>7667</td>\n      <td>1749</td>\n      <td>4168</td>\n      <td>15998</td>\n      <td>5061</td>\n      <td>22048</td>\n      <td>49406</td>\n      <td>11429</td>\n      <td>3179</td>\n      <td>13748</td>\n      <td>7079</td>\n      <td>7715</td>\n      <td>6428</td>\n      <td>226281</td>\n    </tr>\n    <tr>\n      <th>2850</th>\n      <td>2020</td>\n      <td>90 Jahre und mehr</td>\n      <td>108225</td>\n      <td>122252</td>\n      <td>30029</td>\n      <td>26464</td>\n      <td>7160</td>\n      <td>17250</td>\n      <td>62984</td>\n      <td>16715</td>\n      <td>83231</td>\n      <td>184859</td>\n      <td>43862</td>\n      <td>10966</td>\n      <td>51868</td>\n      <td>24957</td>\n      <td>29586</td>\n      <td>23283</td>\n      <td>843691</td>\n    </tr>\n    <tr>\n      <th>2851</th>\n      <td>2020</td>\n      <td>Insgesamt</td>\n      <td>11103043</td>\n      <td>13140183</td>\n      <td>3664088</td>\n      <td>2531071</td>\n      <td>680130</td>\n      <td>1852478</td>\n      <td>6293154</td>\n      <td>1610774</td>\n      <td>8003421</td>\n      <td>17925570</td>\n      <td>4098391</td>\n      <td>983991</td>\n      <td>4056941</td>\n      <td>2180684</td>\n      <td>2910875</td>\n      <td>2120237</td>\n      <td>83155031</td>\n    </tr>\n  </tbody>\n</table>\n<p>2852 rows × 19 columns</p>\n</div>"
     },
     "execution_count": 31,
     "metadata": {},
     "output_type": "execute_result"
    }
   ],
   "source": [
    "deutsch_bevölkerung = pd.read_excel(f\"Data\\\\12411-0012_complete.xlsx\", index_col=0).reset_index(drop=True)\n",
    "deutsch_bevölkerung"
   ],
   "metadata": {
    "collapsed": false,
    "pycharm": {
     "name": "#%%\n"
    }
   }
  },
  {
   "cell_type": "code",
   "execution_count": 32,
   "outputs": [
    {
     "data": {
      "text/plain": "     Jahr     Alter    Anzahl\n0    1990   0 - <15  12937503\n1    1990  15 - <20   4369092\n2    1990  20 - <25   6318534\n3    1990  25 - <30   7004877\n4    1990  30 - <35   6249072\n..    ...       ...       ...\n522  2020  70 - <75   3968070\n523  2020  75 - <80   3468028\n524  2020  80 - <85   3430502\n525  2020       85<   2505932\n526  2020    Gesamt  83155031\n\n[527 rows x 3 columns]",
      "text/html": "<div>\n<style scoped>\n    .dataframe tbody tr th:only-of-type {\n        vertical-align: middle;\n    }\n\n    .dataframe tbody tr th {\n        vertical-align: top;\n    }\n\n    .dataframe thead th {\n        text-align: right;\n    }\n</style>\n<table border=\"1\" class=\"dataframe\">\n  <thead>\n    <tr style=\"text-align: right;\">\n      <th></th>\n      <th>Jahr</th>\n      <th>Alter</th>\n      <th>Anzahl</th>\n    </tr>\n  </thead>\n  <tbody>\n    <tr>\n      <th>0</th>\n      <td>1990</td>\n      <td>0 - &lt;15</td>\n      <td>12937503</td>\n    </tr>\n    <tr>\n      <th>1</th>\n      <td>1990</td>\n      <td>15 - &lt;20</td>\n      <td>4369092</td>\n    </tr>\n    <tr>\n      <th>2</th>\n      <td>1990</td>\n      <td>20 - &lt;25</td>\n      <td>6318534</td>\n    </tr>\n    <tr>\n      <th>3</th>\n      <td>1990</td>\n      <td>25 - &lt;30</td>\n      <td>7004877</td>\n    </tr>\n    <tr>\n      <th>4</th>\n      <td>1990</td>\n      <td>30 - &lt;35</td>\n      <td>6249072</td>\n    </tr>\n    <tr>\n      <th>...</th>\n      <td>...</td>\n      <td>...</td>\n      <td>...</td>\n    </tr>\n    <tr>\n      <th>522</th>\n      <td>2020</td>\n      <td>70 - &lt;75</td>\n      <td>3968070</td>\n    </tr>\n    <tr>\n      <th>523</th>\n      <td>2020</td>\n      <td>75 - &lt;80</td>\n      <td>3468028</td>\n    </tr>\n    <tr>\n      <th>524</th>\n      <td>2020</td>\n      <td>80 - &lt;85</td>\n      <td>3430502</td>\n    </tr>\n    <tr>\n      <th>525</th>\n      <td>2020</td>\n      <td>85&lt;</td>\n      <td>2505932</td>\n    </tr>\n    <tr>\n      <th>526</th>\n      <td>2020</td>\n      <td>Gesamt</td>\n      <td>83155031</td>\n    </tr>\n  </tbody>\n</table>\n<p>527 rows × 3 columns</p>\n</div>"
     },
     "execution_count": 32,
     "metadata": {},
     "output_type": "execute_result"
    }
   ],
   "source": [
    "#alle Altersgruppen einteilen\n",
    "rows = []\n",
    "x = 0\n",
    "j = 0\n",
    "for k in range (1 ,32):\n",
    "    x=0\n",
    "    for i in range(0, 92):\n",
    "        k2 = k*91\n",
    "        if i == 0 and k == 1:\n",
    "            bevölkerungs_anzahl = deutsch_bevölkerung.loc[deutsch_bevölkerung.index[0]][\"Gesamt\"] #Gesamtbevölkerung je altersgruppe\n",
    "        if i == 0 and k != 1:\n",
    "            bevölkerungs_anzahl = deutsch_bevölkerung.loc[deutsch_bevölkerung.index[i+(k-1)*92]][\"Gesamt\"]\n",
    "        else:\n",
    "            bevölkerungs_anzahl = deutsch_bevölkerung.loc[deutsch_bevölkerung.index[i+((k-1)*92)]][\"Gesamt\"]\n",
    "\n",
    "        if ( i < 15):\n",
    "            x += bevölkerungs_anzahl\n",
    "            if (i == 14):\n",
    "                rows.append([1990+k-1,\"0 - \"+\"<{}\".format(i+1), x])\n",
    "                x = 0\n",
    "\n",
    "        elif (i >= 15 and  i < 85):\n",
    "            j += 1\n",
    "            x += bevölkerungs_anzahl\n",
    "            if j == 5:\n",
    "                rows.append([1990+k-1,(str(i-4)+\" - <\"+str(i+1)), x])\n",
    "                j = 0\n",
    "                x = 0\n",
    "\n",
    "        elif (i >= 85 and  i <= 90):\n",
    "            x += bevölkerungs_anzahl\n",
    "            if i == 90:\n",
    "                rows.append([1990+k-1,\"85<\", x])\n",
    "                x = 0\n",
    "\n",
    "        elif i == 91:\n",
    "            x += bevölkerungs_anzahl\n",
    "            rows.append([1990+k-1,\"Gesamt\", x])\n",
    "            x=0\n",
    "\n",
    "\n",
    "alters_gruppen_deutsch = pd.DataFrame(rows, columns=[\"Jahr\",\"Alter\", \"Anzahl\"])\n",
    "alters_gruppen_deutsch"
   ],
   "metadata": {
    "collapsed": false,
    "pycharm": {
     "name": "#%%\n"
    }
   }
  },
  {
   "cell_type": "markdown",
   "source": [
    "#### Einteilen der Bevölkerungsdaten"
   ],
   "metadata": {
    "collapsed": false
   }
  },
  {
   "cell_type": "code",
   "execution_count": 33,
   "outputs": [],
   "source": [
    "#Sterbefälle einteilen\n",
    "#bildet summe aus gruppe 90-95 und gruppe ü 95, ersetzt die 90-95 row damit, benennt sie um und dropt die ü95 reihe.\n",
    "\n",
    "#Auswählen der gewünschten Spalten\n",
    "alter_85_bis_89 = bevölkerung_österreich.loc[bevölkerung_österreich[\"Altersgruppen\"]==\"85 bis 89 Jahre\"]\n",
    "alter_90_bis_94 = bevölkerung_österreich.loc[bevölkerung_österreich[\"Altersgruppen\"]==\"90 bis 94 Jahre\"]\n",
    "alter_95_bis_99 = bevölkerung_österreich.loc[bevölkerung_österreich[\"Altersgruppen\"]==\"95 bis 99 Jahre\"]\n",
    "alter_100_und_mehr = bevölkerung_österreich.loc[bevölkerung_österreich[\"Altersgruppen\"]==\"100 Jahre und älter\"]\n",
    "\n",
    "#Aufsummieren der Zeilen\n",
    "index_85_bis_89 = list(alter_85_bis_89.index)\n",
    "index_90_bis_94 = list(alter_90_bis_94.index)\n",
    "index_95_bis_99 = list(alter_95_bis_99.index)\n",
    "index_100_und_mehr = list(alter_100_und_mehr.index)\n",
    "\n",
    "for i in range (len(index_85_bis_89)):\n",
    "    new_row = alter_85_bis_89.iloc[i,2:] + alter_90_bis_94.iloc[i,2:] + alter_95_bis_99.iloc[i,2:] + alter_100_und_mehr.iloc[i,2:]\n",
    "    bevölkerung_österreich.loc[index_85_bis_89[i], \"männlich\":] = new_row\n",
    "    bevölkerung_österreich.drop([index_90_bis_94[i],index_95_bis_99[i],index_100_und_mehr[i]], inplace=True)\n",
    "\n",
    "bevölkerung_österreich['Altersgruppen'].replace({'85 bis 89 Jahre': '85<'}, inplace = True)"
   ],
   "metadata": {
    "collapsed": false,
    "pycharm": {
     "name": "#%%\n"
    }
   }
  },
  {
   "cell_type": "markdown",
   "source": [],
   "metadata": {
    "collapsed": false
   }
  },
  {
   "cell_type": "code",
   "execution_count": 34,
   "outputs": [
    {
     "data": {
      "text/plain": "     Jahr    Altersgruppen  männlich  weiblich  Insgesamt\n0    2002     bis 14 Jahre    689766    656006    1345772\n1    2002  15 bis 19 Jahre    246631    235420     482051\n2    2002  20 bis 24 Jahre    244102    236895     480997\n3    2002  25 bis 29 Jahre    263353    264940     528293\n4    2002  30 bis 34 Jahre    331851    327188     659039\n..    ...              ...       ...       ...        ...\n392  2021  70 bis 74 Jahre    189301    222212     411513\n393  2021  75 bis 79 Jahre    149676    192335     342011\n394  2021  80 bis 84 Jahre    115999    162246     278245\n395  2021              85<     74328    149532     223860\n399  2021           Gesamt   4396952   4535712    8932664\n\n[340 rows x 5 columns]",
      "text/html": "<div>\n<style scoped>\n    .dataframe tbody tr th:only-of-type {\n        vertical-align: middle;\n    }\n\n    .dataframe tbody tr th {\n        vertical-align: top;\n    }\n\n    .dataframe thead th {\n        text-align: right;\n    }\n</style>\n<table border=\"1\" class=\"dataframe\">\n  <thead>\n    <tr style=\"text-align: right;\">\n      <th></th>\n      <th>Jahr</th>\n      <th>Altersgruppen</th>\n      <th>männlich</th>\n      <th>weiblich</th>\n      <th>Insgesamt</th>\n    </tr>\n  </thead>\n  <tbody>\n    <tr>\n      <th>0</th>\n      <td>2002</td>\n      <td>bis 14 Jahre</td>\n      <td>689766</td>\n      <td>656006</td>\n      <td>1345772</td>\n    </tr>\n    <tr>\n      <th>1</th>\n      <td>2002</td>\n      <td>15 bis 19 Jahre</td>\n      <td>246631</td>\n      <td>235420</td>\n      <td>482051</td>\n    </tr>\n    <tr>\n      <th>2</th>\n      <td>2002</td>\n      <td>20 bis 24 Jahre</td>\n      <td>244102</td>\n      <td>236895</td>\n      <td>480997</td>\n    </tr>\n    <tr>\n      <th>3</th>\n      <td>2002</td>\n      <td>25 bis 29 Jahre</td>\n      <td>263353</td>\n      <td>264940</td>\n      <td>528293</td>\n    </tr>\n    <tr>\n      <th>4</th>\n      <td>2002</td>\n      <td>30 bis 34 Jahre</td>\n      <td>331851</td>\n      <td>327188</td>\n      <td>659039</td>\n    </tr>\n    <tr>\n      <th>...</th>\n      <td>...</td>\n      <td>...</td>\n      <td>...</td>\n      <td>...</td>\n      <td>...</td>\n    </tr>\n    <tr>\n      <th>392</th>\n      <td>2021</td>\n      <td>70 bis 74 Jahre</td>\n      <td>189301</td>\n      <td>222212</td>\n      <td>411513</td>\n    </tr>\n    <tr>\n      <th>393</th>\n      <td>2021</td>\n      <td>75 bis 79 Jahre</td>\n      <td>149676</td>\n      <td>192335</td>\n      <td>342011</td>\n    </tr>\n    <tr>\n      <th>394</th>\n      <td>2021</td>\n      <td>80 bis 84 Jahre</td>\n      <td>115999</td>\n      <td>162246</td>\n      <td>278245</td>\n    </tr>\n    <tr>\n      <th>395</th>\n      <td>2021</td>\n      <td>85&lt;</td>\n      <td>74328</td>\n      <td>149532</td>\n      <td>223860</td>\n    </tr>\n    <tr>\n      <th>399</th>\n      <td>2021</td>\n      <td>Gesamt</td>\n      <td>4396952</td>\n      <td>4535712</td>\n      <td>8932664</td>\n    </tr>\n  </tbody>\n</table>\n<p>340 rows × 5 columns</p>\n</div>"
     },
     "execution_count": 34,
     "metadata": {},
     "output_type": "execute_result"
    }
   ],
   "source": [
    "bevölkerung_österreich"
   ],
   "metadata": {
    "collapsed": false,
    "pycharm": {
     "name": "#%%\n"
    }
   }
  },
  {
   "cell_type": "markdown",
   "source": [
    "# Altersbereinigung der Sterbefälle aus Österreich mithilfe der deutschen Standardpopulation"
   ],
   "metadata": {
    "collapsed": false
   }
  },
  {
   "cell_type": "markdown",
   "source": [
    "#### Berechnung der rohen Sterberate"
   ],
   "metadata": {
    "collapsed": false
   }
  },
  {
   "cell_type": "code",
   "execution_count": 35,
   "outputs": [
    {
     "data": {
      "text/plain": "    Jahr  Sterberate_Roh_pro_100000\n0   2020                1029.079220\n1   2019                 941.281385\n2   2018                 951.852851\n3   2017                 949.176808\n4   2016                 927.179689\n5   2015                 967.661224\n6   2014                 919.769256\n7   2013                 940.928979\n8   2012                 944.753293\n9   2011                 913.164208\n10  2010                 924.357040\n11  2009                 928.385989\n12  2008                 903.744576\n13  2007                 900.943428\n14  2006                 900.076542",
      "text/html": "<div>\n<style scoped>\n    .dataframe tbody tr th:only-of-type {\n        vertical-align: middle;\n    }\n\n    .dataframe tbody tr th {\n        vertical-align: top;\n    }\n\n    .dataframe thead th {\n        text-align: right;\n    }\n</style>\n<table border=\"1\" class=\"dataframe\">\n  <thead>\n    <tr style=\"text-align: right;\">\n      <th></th>\n      <th>Jahr</th>\n      <th>Sterberate_Roh_pro_100000</th>\n    </tr>\n  </thead>\n  <tbody>\n    <tr>\n      <th>0</th>\n      <td>2020</td>\n      <td>1029.079220</td>\n    </tr>\n    <tr>\n      <th>1</th>\n      <td>2019</td>\n      <td>941.281385</td>\n    </tr>\n    <tr>\n      <th>2</th>\n      <td>2018</td>\n      <td>951.852851</td>\n    </tr>\n    <tr>\n      <th>3</th>\n      <td>2017</td>\n      <td>949.176808</td>\n    </tr>\n    <tr>\n      <th>4</th>\n      <td>2016</td>\n      <td>927.179689</td>\n    </tr>\n    <tr>\n      <th>5</th>\n      <td>2015</td>\n      <td>967.661224</td>\n    </tr>\n    <tr>\n      <th>6</th>\n      <td>2014</td>\n      <td>919.769256</td>\n    </tr>\n    <tr>\n      <th>7</th>\n      <td>2013</td>\n      <td>940.928979</td>\n    </tr>\n    <tr>\n      <th>8</th>\n      <td>2012</td>\n      <td>944.753293</td>\n    </tr>\n    <tr>\n      <th>9</th>\n      <td>2011</td>\n      <td>913.164208</td>\n    </tr>\n    <tr>\n      <th>10</th>\n      <td>2010</td>\n      <td>924.357040</td>\n    </tr>\n    <tr>\n      <th>11</th>\n      <td>2009</td>\n      <td>928.385989</td>\n    </tr>\n    <tr>\n      <th>12</th>\n      <td>2008</td>\n      <td>903.744576</td>\n    </tr>\n    <tr>\n      <th>13</th>\n      <td>2007</td>\n      <td>900.943428</td>\n    </tr>\n    <tr>\n      <th>14</th>\n      <td>2006</td>\n      <td>900.076542</td>\n    </tr>\n  </tbody>\n</table>\n</div>"
     },
     "execution_count": 35,
     "metadata": {},
     "output_type": "execute_result"
    }
   ],
   "source": [
    "#rohe sterberate\n",
    "#loop über jahre\n",
    "sterberaten_roh = []\n",
    "for n in range(0,15):\n",
    "    z = sterbefälle_altersgruppen.loc[(sterbefälle_altersgruppen[\"Jahr\"]==2020-n)].reset_index(drop= True)\n",
    "    sterberate_gesamt = 0\n",
    "\n",
    "    # gesamt_bev = standard_bevölkerung.loc[standard_bevölkerung.index[15]][2]\n",
    "    gesamt_bev = bevölkerung_österreich.loc[bevölkerung_österreich[\"Jahr\"]==2020-n][\"Insgesamt\"].reset_index(drop= True)\n",
    "\n",
    "    #loop über altersgruppen\n",
    "    for i in range(1,17):\n",
    "        mri = ((z.loc[z.index[i]][\"Insgesamt\"]) / gesamt_bev[16]) * 100000  #sterberate je altersgruppe\n",
    "        sterberate_gesamt += mri\n",
    "\n",
    "\n",
    "    sterberaten_roh.append([2020-n, sterberate_gesamt])\n",
    "    sterberate_gesamt = 0\n",
    "\n",
    "sterberaten_roh = pd.DataFrame(sterberaten_roh, columns=[\"Jahr\", \"Sterberate_Roh_pro_100000\"])\n",
    "sterberaten_roh"
   ],
   "metadata": {
    "collapsed": false,
    "pycharm": {
     "name": "#%%\n"
    }
   }
  },
  {
   "cell_type": "markdown",
   "source": [
    "### Altersbereinigte Sterberate (Standardbevölkerung: 2020)"
   ],
   "metadata": {
    "collapsed": false
   }
  },
  {
   "cell_type": "markdown",
   "source": [
    "Auswahl der Standardbevölkerung"
   ],
   "metadata": {
    "collapsed": false
   }
  },
  {
   "cell_type": "code",
   "execution_count": 36,
   "outputs": [
    {
     "data": {
      "text/plain": "     Jahr     Alter    Anzahl\n510  2020   0 - <15  11477800\n511  2020  15 - <20   3856774\n512  2020  20 - <25   4570491\n513  2020  25 - <30   4912939\n514  2020  30 - <35   5581088\n515  2020  35 - <40   5290876\n516  2020  40 - <45   5034888\n517  2020  45 - <50   5035860\n518  2020  50 - <55   6487224\n519  2020  55 - <60   6817318\n520  2020  60 - <65   5818137\n521  2020  65 - <70   4899104\n522  2020  70 - <75   3968070\n523  2020  75 - <80   3468028\n524  2020  80 - <85   3430502\n525  2020       85<   2505932\n526  2020    Gesamt  83155031",
      "text/html": "<div>\n<style scoped>\n    .dataframe tbody tr th:only-of-type {\n        vertical-align: middle;\n    }\n\n    .dataframe tbody tr th {\n        vertical-align: top;\n    }\n\n    .dataframe thead th {\n        text-align: right;\n    }\n</style>\n<table border=\"1\" class=\"dataframe\">\n  <thead>\n    <tr style=\"text-align: right;\">\n      <th></th>\n      <th>Jahr</th>\n      <th>Alter</th>\n      <th>Anzahl</th>\n    </tr>\n  </thead>\n  <tbody>\n    <tr>\n      <th>510</th>\n      <td>2020</td>\n      <td>0 - &lt;15</td>\n      <td>11477800</td>\n    </tr>\n    <tr>\n      <th>511</th>\n      <td>2020</td>\n      <td>15 - &lt;20</td>\n      <td>3856774</td>\n    </tr>\n    <tr>\n      <th>512</th>\n      <td>2020</td>\n      <td>20 - &lt;25</td>\n      <td>4570491</td>\n    </tr>\n    <tr>\n      <th>513</th>\n      <td>2020</td>\n      <td>25 - &lt;30</td>\n      <td>4912939</td>\n    </tr>\n    <tr>\n      <th>514</th>\n      <td>2020</td>\n      <td>30 - &lt;35</td>\n      <td>5581088</td>\n    </tr>\n    <tr>\n      <th>515</th>\n      <td>2020</td>\n      <td>35 - &lt;40</td>\n      <td>5290876</td>\n    </tr>\n    <tr>\n      <th>516</th>\n      <td>2020</td>\n      <td>40 - &lt;45</td>\n      <td>5034888</td>\n    </tr>\n    <tr>\n      <th>517</th>\n      <td>2020</td>\n      <td>45 - &lt;50</td>\n      <td>5035860</td>\n    </tr>\n    <tr>\n      <th>518</th>\n      <td>2020</td>\n      <td>50 - &lt;55</td>\n      <td>6487224</td>\n    </tr>\n    <tr>\n      <th>519</th>\n      <td>2020</td>\n      <td>55 - &lt;60</td>\n      <td>6817318</td>\n    </tr>\n    <tr>\n      <th>520</th>\n      <td>2020</td>\n      <td>60 - &lt;65</td>\n      <td>5818137</td>\n    </tr>\n    <tr>\n      <th>521</th>\n      <td>2020</td>\n      <td>65 - &lt;70</td>\n      <td>4899104</td>\n    </tr>\n    <tr>\n      <th>522</th>\n      <td>2020</td>\n      <td>70 - &lt;75</td>\n      <td>3968070</td>\n    </tr>\n    <tr>\n      <th>523</th>\n      <td>2020</td>\n      <td>75 - &lt;80</td>\n      <td>3468028</td>\n    </tr>\n    <tr>\n      <th>524</th>\n      <td>2020</td>\n      <td>80 - &lt;85</td>\n      <td>3430502</td>\n    </tr>\n    <tr>\n      <th>525</th>\n      <td>2020</td>\n      <td>85&lt;</td>\n      <td>2505932</td>\n    </tr>\n    <tr>\n      <th>526</th>\n      <td>2020</td>\n      <td>Gesamt</td>\n      <td>83155031</td>\n    </tr>\n  </tbody>\n</table>\n</div>"
     },
     "execution_count": 36,
     "metadata": {},
     "output_type": "execute_result"
    }
   ],
   "source": [
    "standard_bevölkerung = alters_gruppen_deutsch.loc[alters_gruppen_deutsch[\"Jahr\"]==2020]\n",
    "standard_bevölkerung"
   ],
   "metadata": {
    "collapsed": false,
    "pycharm": {
     "name": "#%%\n"
    }
   }
  },
  {
   "cell_type": "code",
   "execution_count": 72,
   "outputs": [
    {
     "data": {
      "text/plain": "    Jahr  Sterberate_bereinigt\n0   2020          40098.219798\n1   2019          37215.665793\n2   2018          37928.212974\n3   2017          38149.576231\n4   2016          37580.825046\n5   2015          39409.598151\n6   2014          37924.618374\n7   2013          39264.655977\n8   2012          39810.943143\n9   2011          39191.507488\n10  2010          40484.772396\n11  2009          41591.614389\n12  2008          41476.496660\n13  2007          42329.729592\n14  2006          43558.004016",
      "text/html": "<div>\n<style scoped>\n    .dataframe tbody tr th:only-of-type {\n        vertical-align: middle;\n    }\n\n    .dataframe tbody tr th {\n        vertical-align: top;\n    }\n\n    .dataframe thead th {\n        text-align: right;\n    }\n</style>\n<table border=\"1\" class=\"dataframe\">\n  <thead>\n    <tr style=\"text-align: right;\">\n      <th></th>\n      <th>Jahr</th>\n      <th>Sterberate_bereinigt</th>\n    </tr>\n  </thead>\n  <tbody>\n    <tr>\n      <th>0</th>\n      <td>2020</td>\n      <td>40098.219798</td>\n    </tr>\n    <tr>\n      <th>1</th>\n      <td>2019</td>\n      <td>37215.665793</td>\n    </tr>\n    <tr>\n      <th>2</th>\n      <td>2018</td>\n      <td>37928.212974</td>\n    </tr>\n    <tr>\n      <th>3</th>\n      <td>2017</td>\n      <td>38149.576231</td>\n    </tr>\n    <tr>\n      <th>4</th>\n      <td>2016</td>\n      <td>37580.825046</td>\n    </tr>\n    <tr>\n      <th>5</th>\n      <td>2015</td>\n      <td>39409.598151</td>\n    </tr>\n    <tr>\n      <th>6</th>\n      <td>2014</td>\n      <td>37924.618374</td>\n    </tr>\n    <tr>\n      <th>7</th>\n      <td>2013</td>\n      <td>39264.655977</td>\n    </tr>\n    <tr>\n      <th>8</th>\n      <td>2012</td>\n      <td>39810.943143</td>\n    </tr>\n    <tr>\n      <th>9</th>\n      <td>2011</td>\n      <td>39191.507488</td>\n    </tr>\n    <tr>\n      <th>10</th>\n      <td>2010</td>\n      <td>40484.772396</td>\n    </tr>\n    <tr>\n      <th>11</th>\n      <td>2009</td>\n      <td>41591.614389</td>\n    </tr>\n    <tr>\n      <th>12</th>\n      <td>2008</td>\n      <td>41476.496660</td>\n    </tr>\n    <tr>\n      <th>13</th>\n      <td>2007</td>\n      <td>42329.729592</td>\n    </tr>\n    <tr>\n      <th>14</th>\n      <td>2006</td>\n      <td>43558.004016</td>\n    </tr>\n  </tbody>\n</table>\n</div>"
     },
     "execution_count": 72,
     "metadata": {},
     "output_type": "execute_result"
    }
   ],
   "source": [
    "#altersbereinigt\n",
    "sterberaten_bereinigt = []\n",
    "#loop über jahre\n",
    "for n in range(0,15):\n",
    "    z = sterbefälle_altersgruppen.loc[(sterbefälle_altersgruppen[\"Jahr\"]==2020-n)] #Österreich\n",
    "    q = bevölkerung_österreich.loc[bevölkerung_österreich[\"Jahr\"]==2020-n] #Österreich\n",
    "    gesamt_bev = standard_bevölkerung.loc[standard_bevölkerung.index[15]][2] #Deutsch\n",
    "    erg_sum = 0\n",
    "    sum = 0\n",
    "\n",
    "    #loop über Altersgruppen\n",
    "    for i in range(0,16):\n",
    "        print()\n",
    "        asx = standard_bevölkerung.loc[standard_bevölkerung.index[i]][2] #bevölkerung je altersgruppe Standardbevölkerung\n",
    "        bevölkerung_grp = q.loc[q.index[i]][4] #größe Bevölkerungsruppe untersuchte Bevölkerung\n",
    "        subx = ((z.loc[z.index[i+1]][\"Insgesamt\"]) / bevölkerung_grp) * 100000 #sterberate je altersgruppe\n",
    "        sum += (asx * subx)\n",
    "\n",
    "    erg = sum / gesamt_bev\n",
    "    erg_sum += erg\n",
    "\n",
    "    sterberaten_bereinigt.append([2020-n, erg_sum])\n",
    "\n",
    "sterberaten_bereinigt = pd.DataFrame(sterberaten_bereinigt, columns=[\"Jahr\", \"Sterberate_bereinigt\"])\n",
    "sterberaten_bereinigt\n"
   ],
   "metadata": {
    "collapsed": false,
    "pycharm": {
     "name": "#%%\n"
    }
   }
  },
  {
   "cell_type": "code",
   "execution_count": 75,
   "outputs": [
    {
     "data": {
      "text/plain": "    Nr.  Jahr            Alter  Männer  Frauen  Insgesamt\n0     1  2006       Insgesamt    34757   39538      74295\n1     2  2006   0 bis 14 Jahre     261     186        447\n2     3  2006  15 bis 19 Jahre     181      62        243\n3     4  2006  20 bis 24 Jahre     222      75        297\n4     5  2006  25 bis 29 Jahre     183      75        258\n5     6  2006  30 bis 34 Jahre     231     110        341\n6     7  2006  35 bis 39 Jahre     402     175        577\n7     8  2006  40 bis 44 Jahre     604     332        936\n8     9  2006  45 bis 49 Jahre     922     443       1365\n9    10  2006  50 bis 54 Jahre    1295     633       1928\n10   11  2006  55 bis 59 Jahre    2063    1031       3094\n11   12  2006  60 bis 64 Jahre    2641    1327       3968\n12   13  2006  65 bis 69 Jahre    3594    2040       5634\n13   14  2006  70 bis 74 Jahre    3930    2587       6517\n14   15  2006  75 bis 79 Jahre    5582    4791      10373\n15   16  2006  80 bis 84 Jahre    5902    8858      14760\n16   17  2006             85 <    6744   16813      23557",
      "text/html": "<div>\n<style scoped>\n    .dataframe tbody tr th:only-of-type {\n        vertical-align: middle;\n    }\n\n    .dataframe tbody tr th {\n        vertical-align: top;\n    }\n\n    .dataframe thead th {\n        text-align: right;\n    }\n</style>\n<table border=\"1\" class=\"dataframe\">\n  <thead>\n    <tr style=\"text-align: right;\">\n      <th></th>\n      <th>Nr.</th>\n      <th>Jahr</th>\n      <th>Alter</th>\n      <th>Männer</th>\n      <th>Frauen</th>\n      <th>Insgesamt</th>\n    </tr>\n  </thead>\n  <tbody>\n    <tr>\n      <th>0</th>\n      <td>1</td>\n      <td>2006</td>\n      <td>Insgesamt</td>\n      <td>34757</td>\n      <td>39538</td>\n      <td>74295</td>\n    </tr>\n    <tr>\n      <th>1</th>\n      <td>2</td>\n      <td>2006</td>\n      <td>0 bis 14 Jahre</td>\n      <td>261</td>\n      <td>186</td>\n      <td>447</td>\n    </tr>\n    <tr>\n      <th>2</th>\n      <td>3</td>\n      <td>2006</td>\n      <td>15 bis 19 Jahre</td>\n      <td>181</td>\n      <td>62</td>\n      <td>243</td>\n    </tr>\n    <tr>\n      <th>3</th>\n      <td>4</td>\n      <td>2006</td>\n      <td>20 bis 24 Jahre</td>\n      <td>222</td>\n      <td>75</td>\n      <td>297</td>\n    </tr>\n    <tr>\n      <th>4</th>\n      <td>5</td>\n      <td>2006</td>\n      <td>25 bis 29 Jahre</td>\n      <td>183</td>\n      <td>75</td>\n      <td>258</td>\n    </tr>\n    <tr>\n      <th>5</th>\n      <td>6</td>\n      <td>2006</td>\n      <td>30 bis 34 Jahre</td>\n      <td>231</td>\n      <td>110</td>\n      <td>341</td>\n    </tr>\n    <tr>\n      <th>6</th>\n      <td>7</td>\n      <td>2006</td>\n      <td>35 bis 39 Jahre</td>\n      <td>402</td>\n      <td>175</td>\n      <td>577</td>\n    </tr>\n    <tr>\n      <th>7</th>\n      <td>8</td>\n      <td>2006</td>\n      <td>40 bis 44 Jahre</td>\n      <td>604</td>\n      <td>332</td>\n      <td>936</td>\n    </tr>\n    <tr>\n      <th>8</th>\n      <td>9</td>\n      <td>2006</td>\n      <td>45 bis 49 Jahre</td>\n      <td>922</td>\n      <td>443</td>\n      <td>1365</td>\n    </tr>\n    <tr>\n      <th>9</th>\n      <td>10</td>\n      <td>2006</td>\n      <td>50 bis 54 Jahre</td>\n      <td>1295</td>\n      <td>633</td>\n      <td>1928</td>\n    </tr>\n    <tr>\n      <th>10</th>\n      <td>11</td>\n      <td>2006</td>\n      <td>55 bis 59 Jahre</td>\n      <td>2063</td>\n      <td>1031</td>\n      <td>3094</td>\n    </tr>\n    <tr>\n      <th>11</th>\n      <td>12</td>\n      <td>2006</td>\n      <td>60 bis 64 Jahre</td>\n      <td>2641</td>\n      <td>1327</td>\n      <td>3968</td>\n    </tr>\n    <tr>\n      <th>12</th>\n      <td>13</td>\n      <td>2006</td>\n      <td>65 bis 69 Jahre</td>\n      <td>3594</td>\n      <td>2040</td>\n      <td>5634</td>\n    </tr>\n    <tr>\n      <th>13</th>\n      <td>14</td>\n      <td>2006</td>\n      <td>70 bis 74 Jahre</td>\n      <td>3930</td>\n      <td>2587</td>\n      <td>6517</td>\n    </tr>\n    <tr>\n      <th>14</th>\n      <td>15</td>\n      <td>2006</td>\n      <td>75 bis 79 Jahre</td>\n      <td>5582</td>\n      <td>4791</td>\n      <td>10373</td>\n    </tr>\n    <tr>\n      <th>15</th>\n      <td>16</td>\n      <td>2006</td>\n      <td>80 bis 84 Jahre</td>\n      <td>5902</td>\n      <td>8858</td>\n      <td>14760</td>\n    </tr>\n    <tr>\n      <th>16</th>\n      <td>17</td>\n      <td>2006</td>\n      <td>85 &lt;</td>\n      <td>6744</td>\n      <td>16813</td>\n      <td>23557</td>\n    </tr>\n  </tbody>\n</table>\n</div>"
     },
     "execution_count": 75,
     "metadata": {},
     "output_type": "execute_result"
    }
   ],
   "source": [
    "z = sterbefälle_altersgruppen.loc[(sterbefälle_altersgruppen[\"Jahr\"]==2020-n)] #Österreich\n",
    "z"
   ],
   "metadata": {
    "collapsed": false,
    "pycharm": {
     "name": "#%%\n"
    }
   }
  }
 ],
 "metadata": {
  "kernelspec": {
   "display_name": "Python 3",
   "language": "python",
   "name": "python3"
  },
  "language_info": {
   "codemirror_mode": {
    "name": "ipython",
    "version": 2
   },
   "file_extension": ".py",
   "mimetype": "text/x-python",
   "name": "python",
   "nbconvert_exporter": "python",
   "pygments_lexer": "ipython2",
   "version": "2.7.6"
  }
 },
 "nbformat": 4,
 "nbformat_minor": 0
}