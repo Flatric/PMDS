{
 "cells": [
  {
   "cell_type": "code",
   "execution_count": 2,
   "metadata": {},
   "outputs": [],
   "source": [
    "import os\n",
    "import pandas as pd\n",
    "import seaborn as sns\n",
    "import matplotlib as mpl\n",
    "import matplotlib.pyplot as plt\n",
    "import numpy as np\n",
    "\n",
    "hs_blau = \"#22376f\"\n",
    "#mpl.rcParams['axes.prop_cycle'] = mpl.cycler(color=[\"#0645ad\", \"#800020\", \"#1EB9E7\", ])"
   ]
  },
  {
   "cell_type": "code",
   "execution_count": 3,
   "metadata": {},
   "outputs": [
    {
     "data": {
      "text/plain": "     Nr.  Jahr          Bundesland Altersgruppe  Januar  Februar  März  April  \\\n0     81  2021  Schleswig-Holstein    Insgesamt    3602     3071  3090   2918   \n1     82  2021  Schleswig-Holstein         0-65     448      411   482    436   \n2     83  2021  Schleswig-Holstein        65-75     540      435   487    456   \n3     84  2021  Schleswig-Holstein        75-85    1219     1019  1020    952   \n4     85  2021  Schleswig-Holstein   85 u. mehr    1395     1206  1101   1074   \n..   ...   ...                 ...          ...     ...      ...   ...    ...   \n475  556  2016           Thüringen    Insgesamt    2576     2488  2571   2293   \n476  557  2016           Thüringen         0-65     402      406   384    367   \n477  558  2016           Thüringen        65-75     394      359   366    361   \n478  559  2016           Thüringen        75-85     821      847   906    767   \n479  560  2016           Thüringen   85 u. mehr     959      876   915    798   \n\n      Mai  Juni  Juli  August  September  Oktober  November  Dezember  \\\n0    2975  2850  2854    2876       2822     3162      3084      3471   \n1     436   430   443     394        369      447       391       490   \n2     510   433   477     467        454      474       488       536   \n3     992   981   912     985        920     1042       994      1070   \n4    1037  1006  1022    1030       1079     1199      1211      1375   \n..    ...   ...   ...     ...        ...      ...       ...       ...   \n475  2344  2136  2179    2143       2178     2342      2419      2643   \n476   366   325   366     345        343      383       399       403   \n477   360   326   347     333        340      361       338       419   \n478   804   732   721     732        767      793       811       897   \n479   814   753   745     733        728      805       871       924   \n\n     Insgesamt  \n0        36775  \n1         5177  \n2         5757  \n3        12106  \n4        13735  \n..         ...  \n475      28312  \n476       4489  \n477       4304  \n478       9598  \n479       9921  \n\n[480 rows x 17 columns]",
      "text/html": "<div>\n<style scoped>\n    .dataframe tbody tr th:only-of-type {\n        vertical-align: middle;\n    }\n\n    .dataframe tbody tr th {\n        vertical-align: top;\n    }\n\n    .dataframe thead th {\n        text-align: right;\n    }\n</style>\n<table border=\"1\" class=\"dataframe\">\n  <thead>\n    <tr style=\"text-align: right;\">\n      <th></th>\n      <th>Nr.</th>\n      <th>Jahr</th>\n      <th>Bundesland</th>\n      <th>Altersgruppe</th>\n      <th>Januar</th>\n      <th>Februar</th>\n      <th>März</th>\n      <th>April</th>\n      <th>Mai</th>\n      <th>Juni</th>\n      <th>Juli</th>\n      <th>August</th>\n      <th>September</th>\n      <th>Oktober</th>\n      <th>November</th>\n      <th>Dezember</th>\n      <th>Insgesamt</th>\n    </tr>\n  </thead>\n  <tbody>\n    <tr>\n      <th>0</th>\n      <td>81</td>\n      <td>2021</td>\n      <td>Schleswig-Holstein</td>\n      <td>Insgesamt</td>\n      <td>3602</td>\n      <td>3071</td>\n      <td>3090</td>\n      <td>2918</td>\n      <td>2975</td>\n      <td>2850</td>\n      <td>2854</td>\n      <td>2876</td>\n      <td>2822</td>\n      <td>3162</td>\n      <td>3084</td>\n      <td>3471</td>\n      <td>36775</td>\n    </tr>\n    <tr>\n      <th>1</th>\n      <td>82</td>\n      <td>2021</td>\n      <td>Schleswig-Holstein</td>\n      <td>0-65</td>\n      <td>448</td>\n      <td>411</td>\n      <td>482</td>\n      <td>436</td>\n      <td>436</td>\n      <td>430</td>\n      <td>443</td>\n      <td>394</td>\n      <td>369</td>\n      <td>447</td>\n      <td>391</td>\n      <td>490</td>\n      <td>5177</td>\n    </tr>\n    <tr>\n      <th>2</th>\n      <td>83</td>\n      <td>2021</td>\n      <td>Schleswig-Holstein</td>\n      <td>65-75</td>\n      <td>540</td>\n      <td>435</td>\n      <td>487</td>\n      <td>456</td>\n      <td>510</td>\n      <td>433</td>\n      <td>477</td>\n      <td>467</td>\n      <td>454</td>\n      <td>474</td>\n      <td>488</td>\n      <td>536</td>\n      <td>5757</td>\n    </tr>\n    <tr>\n      <th>3</th>\n      <td>84</td>\n      <td>2021</td>\n      <td>Schleswig-Holstein</td>\n      <td>75-85</td>\n      <td>1219</td>\n      <td>1019</td>\n      <td>1020</td>\n      <td>952</td>\n      <td>992</td>\n      <td>981</td>\n      <td>912</td>\n      <td>985</td>\n      <td>920</td>\n      <td>1042</td>\n      <td>994</td>\n      <td>1070</td>\n      <td>12106</td>\n    </tr>\n    <tr>\n      <th>4</th>\n      <td>85</td>\n      <td>2021</td>\n      <td>Schleswig-Holstein</td>\n      <td>85 u. mehr</td>\n      <td>1395</td>\n      <td>1206</td>\n      <td>1101</td>\n      <td>1074</td>\n      <td>1037</td>\n      <td>1006</td>\n      <td>1022</td>\n      <td>1030</td>\n      <td>1079</td>\n      <td>1199</td>\n      <td>1211</td>\n      <td>1375</td>\n      <td>13735</td>\n    </tr>\n    <tr>\n      <th>...</th>\n      <td>...</td>\n      <td>...</td>\n      <td>...</td>\n      <td>...</td>\n      <td>...</td>\n      <td>...</td>\n      <td>...</td>\n      <td>...</td>\n      <td>...</td>\n      <td>...</td>\n      <td>...</td>\n      <td>...</td>\n      <td>...</td>\n      <td>...</td>\n      <td>...</td>\n      <td>...</td>\n      <td>...</td>\n    </tr>\n    <tr>\n      <th>475</th>\n      <td>556</td>\n      <td>2016</td>\n      <td>Thüringen</td>\n      <td>Insgesamt</td>\n      <td>2576</td>\n      <td>2488</td>\n      <td>2571</td>\n      <td>2293</td>\n      <td>2344</td>\n      <td>2136</td>\n      <td>2179</td>\n      <td>2143</td>\n      <td>2178</td>\n      <td>2342</td>\n      <td>2419</td>\n      <td>2643</td>\n      <td>28312</td>\n    </tr>\n    <tr>\n      <th>476</th>\n      <td>557</td>\n      <td>2016</td>\n      <td>Thüringen</td>\n      <td>0-65</td>\n      <td>402</td>\n      <td>406</td>\n      <td>384</td>\n      <td>367</td>\n      <td>366</td>\n      <td>325</td>\n      <td>366</td>\n      <td>345</td>\n      <td>343</td>\n      <td>383</td>\n      <td>399</td>\n      <td>403</td>\n      <td>4489</td>\n    </tr>\n    <tr>\n      <th>477</th>\n      <td>558</td>\n      <td>2016</td>\n      <td>Thüringen</td>\n      <td>65-75</td>\n      <td>394</td>\n      <td>359</td>\n      <td>366</td>\n      <td>361</td>\n      <td>360</td>\n      <td>326</td>\n      <td>347</td>\n      <td>333</td>\n      <td>340</td>\n      <td>361</td>\n      <td>338</td>\n      <td>419</td>\n      <td>4304</td>\n    </tr>\n    <tr>\n      <th>478</th>\n      <td>559</td>\n      <td>2016</td>\n      <td>Thüringen</td>\n      <td>75-85</td>\n      <td>821</td>\n      <td>847</td>\n      <td>906</td>\n      <td>767</td>\n      <td>804</td>\n      <td>732</td>\n      <td>721</td>\n      <td>732</td>\n      <td>767</td>\n      <td>793</td>\n      <td>811</td>\n      <td>897</td>\n      <td>9598</td>\n    </tr>\n    <tr>\n      <th>479</th>\n      <td>560</td>\n      <td>2016</td>\n      <td>Thüringen</td>\n      <td>85 u. mehr</td>\n      <td>959</td>\n      <td>876</td>\n      <td>915</td>\n      <td>798</td>\n      <td>814</td>\n      <td>753</td>\n      <td>745</td>\n      <td>733</td>\n      <td>728</td>\n      <td>805</td>\n      <td>871</td>\n      <td>924</td>\n      <td>9921</td>\n    </tr>\n  </tbody>\n</table>\n<p>480 rows × 17 columns</p>\n</div>"
     },
     "execution_count": 3,
     "metadata": {},
     "output_type": "execute_result"
    }
   ],
   "source": [
    "bevölkerung = pd.read_excel(f\"Data\\\\12411-0012_complete.xlsx\", index_col=0)\n",
    "\n",
    "#read sterbefälle pro monat\n",
    "sterbefälle_monat = pd.read_excel(f\"Data\\\\sonderauswertung-sterbefaelle_groß.xlsx\", sheet_name='BL_2016_2022_Monate_AG_Ins') #Datensatz ist selbst zusammengebaut\n",
    "sterbefälle_monat = sterbefälle_monat[sterbefälle_monat.columns].replace([\"-\",\".\",\"X \"],0)\n",
    "sterbefälle_monat"
   ]
  },
  {
   "cell_type": "code",
   "execution_count": 3,
   "metadata": {},
   "outputs": [],
   "source": []
  },
  {
   "cell_type": "code",
   "execution_count": 4,
   "metadata": {},
   "outputs": [
    {
     "data": {
      "text/plain": "     Jahr     Alter    Anzahl\n0    1990   0 - <65  67841087\n1    1990  60 - <75   6255795\n2    1990  70 - <85   4526788\n3    1990  77 - <92  85409572\n4    1991   0 - <65  68241982\n..    ...       ...       ...\n119  2019  77 - <92  92724266\n120  2020   0 - <65  64883395\n121  2020  60 - <75   8867174\n122  2020  70 - <85   6898530\n123  2020  77 - <92  92559493\n\n[124 rows x 3 columns]",
      "text/html": "<div>\n<style scoped>\n    .dataframe tbody tr th:only-of-type {\n        vertical-align: middle;\n    }\n\n    .dataframe tbody tr th {\n        vertical-align: top;\n    }\n\n    .dataframe thead th {\n        text-align: right;\n    }\n</style>\n<table border=\"1\" class=\"dataframe\">\n  <thead>\n    <tr style=\"text-align: right;\">\n      <th></th>\n      <th>Jahr</th>\n      <th>Alter</th>\n      <th>Anzahl</th>\n    </tr>\n  </thead>\n  <tbody>\n    <tr>\n      <th>0</th>\n      <td>1990</td>\n      <td>0 - &lt;65</td>\n      <td>67841087</td>\n    </tr>\n    <tr>\n      <th>1</th>\n      <td>1990</td>\n      <td>60 - &lt;75</td>\n      <td>6255795</td>\n    </tr>\n    <tr>\n      <th>2</th>\n      <td>1990</td>\n      <td>70 - &lt;85</td>\n      <td>4526788</td>\n    </tr>\n    <tr>\n      <th>3</th>\n      <td>1990</td>\n      <td>77 - &lt;92</td>\n      <td>85409572</td>\n    </tr>\n    <tr>\n      <th>4</th>\n      <td>1991</td>\n      <td>0 - &lt;65</td>\n      <td>68241982</td>\n    </tr>\n    <tr>\n      <th>...</th>\n      <td>...</td>\n      <td>...</td>\n      <td>...</td>\n    </tr>\n    <tr>\n      <th>119</th>\n      <td>2019</td>\n      <td>77 - &lt;92</td>\n      <td>92724266</td>\n    </tr>\n    <tr>\n      <th>120</th>\n      <td>2020</td>\n      <td>0 - &lt;65</td>\n      <td>64883395</td>\n    </tr>\n    <tr>\n      <th>121</th>\n      <td>2020</td>\n      <td>60 - &lt;75</td>\n      <td>8867174</td>\n    </tr>\n    <tr>\n      <th>122</th>\n      <td>2020</td>\n      <td>70 - &lt;85</td>\n      <td>6898530</td>\n    </tr>\n    <tr>\n      <th>123</th>\n      <td>2020</td>\n      <td>77 - &lt;92</td>\n      <td>92559493</td>\n    </tr>\n  </tbody>\n</table>\n<p>124 rows × 3 columns</p>\n</div>"
     },
     "execution_count": 4,
     "metadata": {},
     "output_type": "execute_result"
    }
   ],
   "source": [
    "#alle Altersgruppen einteilen\n",
    "rows = []\n",
    "x = 0\n",
    "j = 0\n",
    "for k in range (1 ,32):\n",
    "    x=0\n",
    "    for i in range(0, 92):\n",
    "        k2 = k*91\n",
    "        if i == 0 and k == 1:\n",
    "            bevölkerungs_anzahl = bevölkerung.loc[bevölkerung.index[0]][\"Gesamt\"] #Gesamtbevölkerung je altersgruppe\n",
    "        if i == 0 and k != 1:\n",
    "            bevölkerungs_anzahl = bevölkerung.loc[bevölkerung.index[i+(k-1)*92]][\"Gesamt\"]\n",
    "        else:\n",
    "            bevölkerungs_anzahl = bevölkerung.loc[bevölkerung.index[i+((k-1)*92)]][\"Gesamt\"]\n",
    "\n",
    "        if ( i < 65):\n",
    "            x += bevölkerungs_anzahl\n",
    "            if (i == 64):\n",
    "                rows.append([1990+k-1,\"0 - \"+\"<{}\".format(i+1), x])\n",
    "                x = 0   \n",
    "\n",
    "        elif (i >= 65 and  i < 75):\n",
    "    \n",
    "            x += bevölkerungs_anzahl\n",
    "            if i == 74:\n",
    "                rows.append([1990+k-1,(str(i-14)+\" - <\"+str(i+1)), x])\n",
    "\n",
    "            \n",
    "                x = 0\n",
    "\n",
    "        elif (i >= 75 and  i < 85):\n",
    "            x += bevölkerungs_anzahl\n",
    "            if i == 84:\n",
    "                rows.append([1990+k-1,(str(i-14)+\" - <\"+str(i+1)), x])\n",
    "\n",
    "        else:\n",
    "            x += bevölkerungs_anzahl\n",
    "            if i == 91:\n",
    "                rows.append([1990+k-1,(str(i-14)+\" - <\"+str(i+1)), x])\n",
    "\n",
    "       \n",
    "        \n",
    "\n",
    "new_df = pd.DataFrame(rows, columns=[\"Jahr\",\"Alter\", \"Anzahl\"])\n",
    "new_df"
   ]
  },
  {
   "cell_type": "markdown",
   "source": [],
   "metadata": {
    "collapsed": false,
    "pycharm": {
     "name": "#%% md\n"
    }
   }
  },
  {
   "cell_type": "markdown",
   "source": [
    "### Zusammenfassen der Altergruppen für Bundesländer vergleich"
   ],
   "metadata": {
    "collapsed": false
   }
  },
  {
   "cell_type": "code",
   "execution_count": 5,
   "outputs": [
    {
     "data": {
      "text/plain": "      Jahr              Alter  Baden-Württemberg    Bayern   Berlin  \\\n1     1990       unter 1 Jahr             119162    136550    41485   \n2     1990          1-Jährige             114672    129986    38824   \n3     1990          2-Jährige             116459    130981    39899   \n4     1990          3-Jährige             110080    124102    38900   \n5     1990          4-Jährige             109664    123680    37737   \n...    ...                ...                ...       ...      ...   \n2848  2020         87-Jährige              38312     43512    10243   \n2849  2020         88-Jährige              33330     38699     8576   \n2850  2020         89-Jährige              29520     33392     7694   \n2851  2020  90 Jahre und mehr             108225    122252    30029   \n2852  2020          Insgesamt           11103043  13140183  3664088   \n\n      Brandenburg  Bremen  Hamburg   Hessen  Mecklenburg-Vorpommern  \\\n1           29040    6851    16629    62328                   23291   \n2           31792    6552    15550    60670                   25424   \n3           34300    6537    15772    60841                   27284   \n4           35986    6235    14534    58403                   29125   \n5           35290    6026    13868    56944                   28284   \n...           ...     ...      ...      ...                     ...   \n2848        10105    2244     5301    20549                    6791   \n2849         8811    1938     4580    18106                    6091   \n2850         7667    1749     4168    15998                    5061   \n2851        26464    7160    17250    62984                   16715   \n2852      2531071  680130  1852478  6293154                 1610774   \n\n      Niedersachsen  Nordrhein-Westfalen  Rheinland-Pfalz  Saarland  Sachsen  \\\n1             83095               199981            43012     11215    49556   \n2             79748               192662            41210     10950    53584   \n3             81154               195867            42553     11180    56712   \n4             77700               188769            41173     10953    59380   \n5             76474               184442            40529     10981    58300   \n...             ...                  ...              ...       ...      ...   \n2848          27702                62723            14619      3985    17717   \n2849          24439                55507            12764      3583    15081   \n2850          22048                49406            11429      3179    13748   \n2851          83231               184859            43862     10966    51868   \n2852        8003421             17925570          4098391    983991  4056941   \n\n      Sachsen-Anhalt  Schleswig-Holstein  Thüringen    Gesamt  \n1              31411               29179      28657    911442  \n2              33451               28288      30488    893851  \n3              36113               28726      33405    917783  \n4              37339               27379      34428    894486  \n5              36631               26005      34154    879009  \n...              ...                 ...        ...       ...  \n2848            9317                9953       8377    291450  \n2849            8137                8488       7415    255545  \n2850            7079                7715       6428    226281  \n2851           24957               29586      23283    843691  \n2852         2180684             2910875    2120237  83155031  \n\n[2852 rows x 19 columns]",
      "text/html": "<div>\n<style scoped>\n    .dataframe tbody tr th:only-of-type {\n        vertical-align: middle;\n    }\n\n    .dataframe tbody tr th {\n        vertical-align: top;\n    }\n\n    .dataframe thead th {\n        text-align: right;\n    }\n</style>\n<table border=\"1\" class=\"dataframe\">\n  <thead>\n    <tr style=\"text-align: right;\">\n      <th></th>\n      <th>Jahr</th>\n      <th>Alter</th>\n      <th>Baden-Württemberg</th>\n      <th>Bayern</th>\n      <th>Berlin</th>\n      <th>Brandenburg</th>\n      <th>Bremen</th>\n      <th>Hamburg</th>\n      <th>Hessen</th>\n      <th>Mecklenburg-Vorpommern</th>\n      <th>Niedersachsen</th>\n      <th>Nordrhein-Westfalen</th>\n      <th>Rheinland-Pfalz</th>\n      <th>Saarland</th>\n      <th>Sachsen</th>\n      <th>Sachsen-Anhalt</th>\n      <th>Schleswig-Holstein</th>\n      <th>Thüringen</th>\n      <th>Gesamt</th>\n    </tr>\n  </thead>\n  <tbody>\n    <tr>\n      <th>1</th>\n      <td>1990</td>\n      <td>unter 1 Jahr</td>\n      <td>119162</td>\n      <td>136550</td>\n      <td>41485</td>\n      <td>29040</td>\n      <td>6851</td>\n      <td>16629</td>\n      <td>62328</td>\n      <td>23291</td>\n      <td>83095</td>\n      <td>199981</td>\n      <td>43012</td>\n      <td>11215</td>\n      <td>49556</td>\n      <td>31411</td>\n      <td>29179</td>\n      <td>28657</td>\n      <td>911442</td>\n    </tr>\n    <tr>\n      <th>2</th>\n      <td>1990</td>\n      <td>1-Jährige</td>\n      <td>114672</td>\n      <td>129986</td>\n      <td>38824</td>\n      <td>31792</td>\n      <td>6552</td>\n      <td>15550</td>\n      <td>60670</td>\n      <td>25424</td>\n      <td>79748</td>\n      <td>192662</td>\n      <td>41210</td>\n      <td>10950</td>\n      <td>53584</td>\n      <td>33451</td>\n      <td>28288</td>\n      <td>30488</td>\n      <td>893851</td>\n    </tr>\n    <tr>\n      <th>3</th>\n      <td>1990</td>\n      <td>2-Jährige</td>\n      <td>116459</td>\n      <td>130981</td>\n      <td>39899</td>\n      <td>34300</td>\n      <td>6537</td>\n      <td>15772</td>\n      <td>60841</td>\n      <td>27284</td>\n      <td>81154</td>\n      <td>195867</td>\n      <td>42553</td>\n      <td>11180</td>\n      <td>56712</td>\n      <td>36113</td>\n      <td>28726</td>\n      <td>33405</td>\n      <td>917783</td>\n    </tr>\n    <tr>\n      <th>4</th>\n      <td>1990</td>\n      <td>3-Jährige</td>\n      <td>110080</td>\n      <td>124102</td>\n      <td>38900</td>\n      <td>35986</td>\n      <td>6235</td>\n      <td>14534</td>\n      <td>58403</td>\n      <td>29125</td>\n      <td>77700</td>\n      <td>188769</td>\n      <td>41173</td>\n      <td>10953</td>\n      <td>59380</td>\n      <td>37339</td>\n      <td>27379</td>\n      <td>34428</td>\n      <td>894486</td>\n    </tr>\n    <tr>\n      <th>5</th>\n      <td>1990</td>\n      <td>4-Jährige</td>\n      <td>109664</td>\n      <td>123680</td>\n      <td>37737</td>\n      <td>35290</td>\n      <td>6026</td>\n      <td>13868</td>\n      <td>56944</td>\n      <td>28284</td>\n      <td>76474</td>\n      <td>184442</td>\n      <td>40529</td>\n      <td>10981</td>\n      <td>58300</td>\n      <td>36631</td>\n      <td>26005</td>\n      <td>34154</td>\n      <td>879009</td>\n    </tr>\n    <tr>\n      <th>...</th>\n      <td>...</td>\n      <td>...</td>\n      <td>...</td>\n      <td>...</td>\n      <td>...</td>\n      <td>...</td>\n      <td>...</td>\n      <td>...</td>\n      <td>...</td>\n      <td>...</td>\n      <td>...</td>\n      <td>...</td>\n      <td>...</td>\n      <td>...</td>\n      <td>...</td>\n      <td>...</td>\n      <td>...</td>\n      <td>...</td>\n      <td>...</td>\n    </tr>\n    <tr>\n      <th>2848</th>\n      <td>2020</td>\n      <td>87-Jährige</td>\n      <td>38312</td>\n      <td>43512</td>\n      <td>10243</td>\n      <td>10105</td>\n      <td>2244</td>\n      <td>5301</td>\n      <td>20549</td>\n      <td>6791</td>\n      <td>27702</td>\n      <td>62723</td>\n      <td>14619</td>\n      <td>3985</td>\n      <td>17717</td>\n      <td>9317</td>\n      <td>9953</td>\n      <td>8377</td>\n      <td>291450</td>\n    </tr>\n    <tr>\n      <th>2849</th>\n      <td>2020</td>\n      <td>88-Jährige</td>\n      <td>33330</td>\n      <td>38699</td>\n      <td>8576</td>\n      <td>8811</td>\n      <td>1938</td>\n      <td>4580</td>\n      <td>18106</td>\n      <td>6091</td>\n      <td>24439</td>\n      <td>55507</td>\n      <td>12764</td>\n      <td>3583</td>\n      <td>15081</td>\n      <td>8137</td>\n      <td>8488</td>\n      <td>7415</td>\n      <td>255545</td>\n    </tr>\n    <tr>\n      <th>2850</th>\n      <td>2020</td>\n      <td>89-Jährige</td>\n      <td>29520</td>\n      <td>33392</td>\n      <td>7694</td>\n      <td>7667</td>\n      <td>1749</td>\n      <td>4168</td>\n      <td>15998</td>\n      <td>5061</td>\n      <td>22048</td>\n      <td>49406</td>\n      <td>11429</td>\n      <td>3179</td>\n      <td>13748</td>\n      <td>7079</td>\n      <td>7715</td>\n      <td>6428</td>\n      <td>226281</td>\n    </tr>\n    <tr>\n      <th>2851</th>\n      <td>2020</td>\n      <td>90 Jahre und mehr</td>\n      <td>108225</td>\n      <td>122252</td>\n      <td>30029</td>\n      <td>26464</td>\n      <td>7160</td>\n      <td>17250</td>\n      <td>62984</td>\n      <td>16715</td>\n      <td>83231</td>\n      <td>184859</td>\n      <td>43862</td>\n      <td>10966</td>\n      <td>51868</td>\n      <td>24957</td>\n      <td>29586</td>\n      <td>23283</td>\n      <td>843691</td>\n    </tr>\n    <tr>\n      <th>2852</th>\n      <td>2020</td>\n      <td>Insgesamt</td>\n      <td>11103043</td>\n      <td>13140183</td>\n      <td>3664088</td>\n      <td>2531071</td>\n      <td>680130</td>\n      <td>1852478</td>\n      <td>6293154</td>\n      <td>1610774</td>\n      <td>8003421</td>\n      <td>17925570</td>\n      <td>4098391</td>\n      <td>983991</td>\n      <td>4056941</td>\n      <td>2180684</td>\n      <td>2910875</td>\n      <td>2120237</td>\n      <td>83155031</td>\n    </tr>\n  </tbody>\n</table>\n<p>2852 rows × 19 columns</p>\n</div>"
     },
     "execution_count": 5,
     "metadata": {},
     "output_type": "execute_result"
    }
   ],
   "source": [
    "bevölkerung"
   ],
   "metadata": {
    "collapsed": false,
    "pycharm": {
     "name": "#%%\n"
    }
   }
  },
  {
   "cell_type": "markdown",
   "source": [
    "### Aufteilung der Altersgruppen pro Bundesland"
   ],
   "metadata": {
    "collapsed": false,
    "pycharm": {
     "name": "#%% md\n"
    }
   }
  },
  {
   "cell_type": "code",
   "execution_count": 55,
   "outputs": [
    {
     "data": {
      "text/plain": "      Jahr         Bundesland     Alter    Anzahl\n0     1990  Baden-Württemberg   0 -< 65   8417865\n1     1990  Baden-Württemberg  65 -< 75    733976\n2     1990  Baden-Württemberg  75 -< 85    537443\n3     1990  Baden-Württemberg       85<    132743\n4     1990  Baden-Württemberg    Gesamt   9822027\n...    ...                ...       ...       ...\n2630  2020             Gesamt   0 -< 65  64883395\n2631  2020             Gesamt  65 -< 75   8867174\n2632  2020             Gesamt  75 -< 85   6898530\n2633  2020             Gesamt       85<   2505932\n2634  2020             Gesamt    Gesamt  83155031\n\n[2635 rows x 4 columns]",
      "text/html": "<div>\n<style scoped>\n    .dataframe tbody tr th:only-of-type {\n        vertical-align: middle;\n    }\n\n    .dataframe tbody tr th {\n        vertical-align: top;\n    }\n\n    .dataframe thead th {\n        text-align: right;\n    }\n</style>\n<table border=\"1\" class=\"dataframe\">\n  <thead>\n    <tr style=\"text-align: right;\">\n      <th></th>\n      <th>Jahr</th>\n      <th>Bundesland</th>\n      <th>Alter</th>\n      <th>Anzahl</th>\n    </tr>\n  </thead>\n  <tbody>\n    <tr>\n      <th>0</th>\n      <td>1990</td>\n      <td>Baden-Württemberg</td>\n      <td>0 -&lt; 65</td>\n      <td>8417865</td>\n    </tr>\n    <tr>\n      <th>1</th>\n      <td>1990</td>\n      <td>Baden-Württemberg</td>\n      <td>65 -&lt; 75</td>\n      <td>733976</td>\n    </tr>\n    <tr>\n      <th>2</th>\n      <td>1990</td>\n      <td>Baden-Württemberg</td>\n      <td>75 -&lt; 85</td>\n      <td>537443</td>\n    </tr>\n    <tr>\n      <th>3</th>\n      <td>1990</td>\n      <td>Baden-Württemberg</td>\n      <td>85&lt;</td>\n      <td>132743</td>\n    </tr>\n    <tr>\n      <th>4</th>\n      <td>1990</td>\n      <td>Baden-Württemberg</td>\n      <td>Gesamt</td>\n      <td>9822027</td>\n    </tr>\n    <tr>\n      <th>...</th>\n      <td>...</td>\n      <td>...</td>\n      <td>...</td>\n      <td>...</td>\n    </tr>\n    <tr>\n      <th>2630</th>\n      <td>2020</td>\n      <td>Gesamt</td>\n      <td>0 -&lt; 65</td>\n      <td>64883395</td>\n    </tr>\n    <tr>\n      <th>2631</th>\n      <td>2020</td>\n      <td>Gesamt</td>\n      <td>65 -&lt; 75</td>\n      <td>8867174</td>\n    </tr>\n    <tr>\n      <th>2632</th>\n      <td>2020</td>\n      <td>Gesamt</td>\n      <td>75 -&lt; 85</td>\n      <td>6898530</td>\n    </tr>\n    <tr>\n      <th>2633</th>\n      <td>2020</td>\n      <td>Gesamt</td>\n      <td>85&lt;</td>\n      <td>2505932</td>\n    </tr>\n    <tr>\n      <th>2634</th>\n      <td>2020</td>\n      <td>Gesamt</td>\n      <td>Gesamt</td>\n      <td>83155031</td>\n    </tr>\n  </tbody>\n</table>\n<p>2635 rows × 4 columns</p>\n</div>"
     },
     "execution_count": 55,
     "metadata": {},
     "output_type": "execute_result"
    }
   ],
   "source": [
    "bundesland = bevölkerung.columns.values.tolist()[2:]\n",
    "memory = []\n",
    "\n",
    "for year in range(1990,2021,1):\n",
    "    #Auswahl der Länder\n",
    "    bevölkerungs_jahr = bevölkerung.loc[bevölkerung.Jahr== year].reset_index(drop=True)\n",
    "    for land in bundesland:\n",
    "        bevölkerung_kleiner_65 =  bevölkerungs_jahr[land].iloc[0:65].sum() # 0-> 64\n",
    "        memory.append([year,land,(str(0)+\" -< \"+str(65)), bevölkerung_kleiner_65])\n",
    "        bevölkerung_kleiner_75 =  bevölkerungs_jahr[land].iloc[65:75].sum() # 65-> 74\n",
    "        memory.append([year,land,(str(65)+\" -< \"+str(75)), bevölkerung_kleiner_75])\n",
    "        bevölkerung_kleiner_85 =  bevölkerungs_jahr[land].iloc[75:85].sum() # 75-> 84\n",
    "        memory.append([year,land,(str(75)+\" -< \"+str(85)), bevölkerung_kleiner_85])\n",
    "        bevölkerung_groesser_85 = bevölkerungs_jahr[land].iloc[85:91].sum() # 85> 74\n",
    "        memory.append([year,land,(str(85)+\"<\"), bevölkerung_groesser_85])\n",
    "        gesamt = bevölkerung_kleiner_65 + bevölkerung_kleiner_75 + bevölkerung_kleiner_85 + bevölkerung_groesser_85\n",
    "        memory.append([year,land,\"Gesamt\", gesamt])\n",
    "\n",
    "new_df = pd.DataFrame(memory, columns=[\"Jahr\",\"Bundesland\",\"Alter\", \"Anzahl\"])\n",
    "new_df"
   ],
   "metadata": {
    "collapsed": false,
    "pycharm": {
     "name": "#%%\n"
    }
   }
  },
  {
   "cell_type": "code",
   "execution_count": null,
   "outputs": [],
   "source": [],
   "metadata": {
    "collapsed": false,
    "pycharm": {
     "name": "#%%\n"
    }
   }
  }
 ],
 "metadata": {
  "interpreter": {
   "hash": "c64ab6fc84cf5ab2d160e3bdb6e01563d6d3a3e715bd4e213410aed41bd6871e"
  },
  "kernelspec": {
   "display_name": "Python 3.8.9 ('venv')",
   "language": "python",
   "name": "python3"
  },
  "language_info": {
   "codemirror_mode": {
    "name": "ipython",
    "version": 3
   },
   "file_extension": ".py",
   "mimetype": "text/x-python",
   "name": "python",
   "nbconvert_exporter": "python",
   "pygments_lexer": "ipython3",
   "version": "3.8.9"
  },
  "orig_nbformat": 4
 },
 "nbformat": 4,
 "nbformat_minor": 2
}